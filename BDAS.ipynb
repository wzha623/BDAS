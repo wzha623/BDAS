{
 "cells": [
  {
   "cell_type": "code",
   "execution_count": 2,
   "metadata": {},
   "outputs": [],
   "source": [
    "import findspark\n",
    "findspark.init('/home/ubuntu/spark-2.1.1-bin-hadoop2.7')\n",
    "import pyspark\n",
    "from pyspark.sql import SparkSession\n",
    "spark = SparkSession.builder.appName('basics').getOrCreate()"
   ]
  },
  {
   "cell_type": "code",
   "execution_count": 3,
   "metadata": {},
   "outputs": [],
   "source": [
    "# Use Spark to read csv file\n",
    "SuicideStats = spark.read.csv(\"data/who_suicide_statistics.csv\",inferSchema=True,header=True)\n",
    "HDIStats = spark.read.csv(\"data/Human Development Index.csv\",inferSchema=True,header=True)\n",
    "WDIStats = spark.read.csv(\"data/World_Development_Indicators.csv\",inferSchema=True,header=True)"
   ]
  },
  {
   "cell_type": "code",
   "execution_count": 10,
   "metadata": {},
   "outputs": [
    {
     "name": "stdout",
     "output_type": "stream",
     "text": [
      "(43776, 6)\n"
     ]
    }
   ],
   "source": [
    "#Data Exploration\n",
    "\n",
    "#Explore the volumn of the dataset WHO Suicide Statistics\n",
    "print((SuicideStats.count(), len(SuicideStats.columns)))"
   ]
  },
  {
   "cell_type": "code",
   "execution_count": 11,
   "metadata": {},
   "outputs": [
    {
     "name": "stdout",
     "output_type": "stream",
     "text": [
      "(189, 31)\n"
     ]
    }
   ],
   "source": [
    "#Explore the volumn of the dataset Human Development Index\n",
    "print((HDIStats.count(), len(HDIStats.columns)))"
   ]
  },
  {
   "cell_type": "code",
   "execution_count": 12,
   "metadata": {},
   "outputs": [
    {
     "name": "stdout",
     "output_type": "stream",
     "text": [
      "(6944, 6)\n"
     ]
    }
   ],
   "source": [
    "#Explore the volumn of the dataset World Development Indicators\n",
    "print((WDIStats.count(), len(WDIStats.columns)))"
   ]
  },
  {
   "cell_type": "code",
   "execution_count": 15,
   "metadata": {},
   "outputs": [
    {
     "name": "stdout",
     "output_type": "stream",
     "text": [
      "['country', 'year', 'sex', 'age', 'suicides_no', 'population']\n",
      "+-------+----+------+-----------+-----------+----------+\n",
      "|country|year|   sex|        age|suicides_no|population|\n",
      "+-------+----+------+-----------+-----------+----------+\n",
      "|Albania|1985|female|15-24 years|       null|    277900|\n",
      "|Albania|1985|female|25-34 years|       null|    246800|\n",
      "|Albania|1985|female|35-54 years|       null|    267500|\n",
      "|Albania|1985|female| 5-14 years|       null|    298300|\n",
      "|Albania|1985|female|55-74 years|       null|    138700|\n",
      "|Albania|1985|female|  75+ years|       null|     34200|\n",
      "+-------+----+------+-----------+-----------+----------+\n",
      "only showing top 6 rows\n",
      "\n"
     ]
    }
   ],
   "source": [
    "#Explore the data quality of the dataset WHO Suicide Statistics\n",
    "print(SuicideStats.columns)\n",
    "SuicideStats.show(6)"
   ]
  },
  {
   "cell_type": "code",
   "execution_count": 16,
   "metadata": {},
   "outputs": [
    {
     "name": "stdout",
     "output_type": "stream",
     "text": [
      "root\n",
      " |-- country: string (nullable = true)\n",
      " |-- year: integer (nullable = true)\n",
      " |-- sex: string (nullable = true)\n",
      " |-- age: string (nullable = true)\n",
      " |-- suicides_no: integer (nullable = true)\n",
      " |-- population: integer (nullable = true)\n",
      "\n"
     ]
    }
   ],
   "source": [
    "#Explore the data type of the dataset WHO Suicide Statistics\n",
    "SuicideStats.printSchema()"
   ]
  },
  {
   "cell_type": "code",
   "execution_count": 23,
   "metadata": {},
   "outputs": [
    {
     "name": "stdout",
     "output_type": "stream",
     "text": [
      "+------+\n",
      "|   sex|\n",
      "+------+\n",
      "|female|\n",
      "|  male|\n",
      "+------+\n",
      "\n",
      "+-----------+\n",
      "|        age|\n",
      "+-----------+\n",
      "|55-74 years|\n",
      "|25-34 years|\n",
      "| 5-14 years|\n",
      "|  75+ years|\n",
      "|15-24 years|\n",
      "|35-54 years|\n",
      "+-----------+\n",
      "\n",
      "141\n",
      "+--------------------+\n",
      "|             country|\n",
      "+--------------------+\n",
      "|            Anguilla|\n",
      "|            Paraguay|\n",
      "|          Cabo Verde|\n",
      "|              Sweden|\n",
      "|            Kiribati|\n",
      "|   Republic of Korea|\n",
      "|              Guyana|\n",
      "|         Philippines|\n",
      "|Occupied Palestin...|\n",
      "|            Malaysia|\n",
      "|           Singapore|\n",
      "|                Fiji|\n",
      "|              Turkey|\n",
      "|      TFYR Macedonia|\n",
      "|                Iraq|\n",
      "|             Germany|\n",
      "|              Jordan|\n",
      "|            Maldives|\n",
      "|              France|\n",
      "|Turks and Caicos ...|\n",
      "+--------------------+\n",
      "only showing top 20 rows\n",
      "\n"
     ]
    }
   ],
   "source": [
    "SuicideStats.select(\"sex\").distinct().show()\n",
    "SuicideStats.select(\"age\").distinct().show()\n",
    "print(SuicideStats.select(\"country\").distinct().count())\n",
    "SuicideStats.select(\"country\").distinct().show()"
   ]
  },
  {
   "cell_type": "code",
   "execution_count": 7,
   "metadata": {},
   "outputs": [
    {
     "name": "stdout",
     "output_type": "stream",
     "text": [
      "+-------+--------+------------------+------+-----------+-----------------+------------------+\n",
      "|summary| country|              year|   sex|        age|      suicides_no|        population|\n",
      "+-------+--------+------------------+------+-----------+-----------------+------------------+\n",
      "|  count|   43776|             43776| 43776|      43776|            41520|             38316|\n",
      "|   mean|    null|1998.5024671052631|  null|       null|193.3153901734104|1664091.1353742562|\n",
      "| stddev|    null|10.338711176746282|  null|       null|800.5899259349637|3647231.2274873867|\n",
      "|    min| Albania|              1979|female|15-24 years|                0|               259|\n",
      "|    max|Zimbabwe|              2016|  male|  75+ years|            22338|          43805214|\n",
      "+-------+--------+------------------+------+-----------+-----------------+------------------+\n",
      "\n"
     ]
    }
   ],
   "source": [
    "#Explore the general statistics of the dataset WHO Suicide Statistics\n",
    "SuicideStats.describe().show()"
   ]
  },
  {
   "cell_type": "code",
   "execution_count": 4,
   "metadata": {},
   "outputs": [
    {
     "name": "stdout",
     "output_type": "stream",
     "text": [
      "['HDI Rank', 'Country', '1990', '1991', '1992', '1993', '1994', '1995', '1996', '1997', '1998', '1999', '2000', '2001', '2002', '2003', '2004', '2005', '2006', '2007', '2008', '2009', '2010', '2011', '2012', '2013', '2014', '2015', '2016', '2017', '2018']\n",
      "+--------+-----------------+-----+-----+-----+-----+-----+-----+-----+-----+-----+-----+-----+-----+-----+-----+-----+-----+-----+-----+-----+-----+-----+-----+-----+-----+-----+-----+-----+-----+-----+\n",
      "|HDI Rank|          Country| 1990| 1991| 1992| 1993| 1994| 1995| 1996| 1997| 1998| 1999| 2000| 2001| 2002| 2003| 2004| 2005| 2006| 2007| 2008| 2009| 2010| 2011| 2012| 2013| 2014| 2015| 2016| 2017| 2018|\n",
      "+--------+-----------------+-----+-----+-----+-----+-----+-----+-----+-----+-----+-----+-----+-----+-----+-----+-----+-----+-----+-----+-----+-----+-----+-----+-----+-----+-----+-----+-----+-----+-----+\n",
      "|     170|      Afghanistan|0.298|0.304|0.312|0.308|0.303|0.327|0.331|0.335|0.339|0.343|0.345|0.347|0.378|0.387|  0.4| 0.41|0.419|0.431|0.436|0.447|0.464|0.465|0.479|0.485|0.488| 0.49|0.491|0.493|0.496|\n",
      "|      69|          Albania|0.644|0.625|0.608|0.611|0.617|0.629|0.639|0.639|0.649| 0.66|0.667|0.673| 0.68|0.687|0.692|0.702|0.709|0.718|0.724|0.729| 0.74|0.759|0.771|0.781|0.787|0.788|0.788|0.789|0.791|\n",
      "|      82|          Algeria|0.578|0.582|0.589|0.593|0.597|0.602| 0.61|0.619|0.629|0.638|0.646|0.655|0.666|0.676|0.685|0.694|0.699|0.708|0.711| 0.72| 0.73|0.738|0.737|0.746|0.749|0.751|0.755|0.758|0.759|\n",
      "|      36|          Andorra|   ..|   ..|   ..|   ..|   ..|   ..|   ..|   ..|   ..|   ..|0.759|0.767| 0.78| 0.82|0.826|0.819|0.829|0.829|0.831| 0.83|0.828|0.827|0.849|0.846|0.853| 0.85|0.854|0.852|0.857|\n",
      "|     149|           Angola|   ..|   ..|   ..|   ..|   ..|   ..|   ..|   ..|   ..|0.384|0.394|0.404|0.419|0.428| 0.44|0.453|0.466|0.482|0.494|0.508| 0.51|0.525|0.537|0.547|0.557|0.565| 0.57|0.576|0.574|\n",
      "|      74|AntiguaandBarbuda|   ..|   ..|   ..|   ..|   ..|   ..|   ..|   ..|   ..|   ..|   ..|   ..|   ..|   ..|   ..|0.773|0.779|0.784|0.783|0.776|0.772|0.764|0.767|0.767|0.767| 0.77|0.772|0.774|0.776|\n",
      "+--------+-----------------+-----+-----+-----+-----+-----+-----+-----+-----+-----+-----+-----+-----+-----+-----+-----+-----+-----+-----+-----+-----+-----+-----+-----+-----+-----+-----+-----+-----+-----+\n",
      "only showing top 6 rows\n",
      "\n"
     ]
    }
   ],
   "source": [
    "#Explore the data quality of the dataset Human Development Index\n",
    "print(HDIStats.columns)\n",
    "HDIStats.show(6)"
   ]
  },
  {
   "cell_type": "code",
   "execution_count": 5,
   "metadata": {},
   "outputs": [
    {
     "name": "stdout",
     "output_type": "stream",
     "text": [
      "root\n",
      " |-- HDI Rank: integer (nullable = true)\n",
      " |-- Country: string (nullable = true)\n",
      " |-- 1990: string (nullable = true)\n",
      " |-- 1991: string (nullable = true)\n",
      " |-- 1992: string (nullable = true)\n",
      " |-- 1993: string (nullable = true)\n",
      " |-- 1994: string (nullable = true)\n",
      " |-- 1995: string (nullable = true)\n",
      " |-- 1996: string (nullable = true)\n",
      " |-- 1997: string (nullable = true)\n",
      " |-- 1998: string (nullable = true)\n",
      " |-- 1999: string (nullable = true)\n",
      " |-- 2000: string (nullable = true)\n",
      " |-- 2001: string (nullable = true)\n",
      " |-- 2002: string (nullable = true)\n",
      " |-- 2003: string (nullable = true)\n",
      " |-- 2004: string (nullable = true)\n",
      " |-- 2005: string (nullable = true)\n",
      " |-- 2006: string (nullable = true)\n",
      " |-- 2007: string (nullable = true)\n",
      " |-- 2008: string (nullable = true)\n",
      " |-- 2009: string (nullable = true)\n",
      " |-- 2010: string (nullable = true)\n",
      " |-- 2011: string (nullable = true)\n",
      " |-- 2012: string (nullable = true)\n",
      " |-- 2013: string (nullable = true)\n",
      " |-- 2014: string (nullable = true)\n",
      " |-- 2015: string (nullable = true)\n",
      " |-- 2016: string (nullable = true)\n",
      " |-- 2017: double (nullable = true)\n",
      " |-- 2018: double (nullable = true)\n",
      "\n"
     ]
    }
   ],
   "source": [
    "#Explore the data type of the dataset Human Development Index\n",
    "HDIStats.printSchema()"
   ]
  },
  {
   "cell_type": "code",
   "execution_count": 6,
   "metadata": {},
   "outputs": [
    {
     "name": "stdout",
     "output_type": "stream",
     "text": [
      "+-------+-----------------+-----------+-------------------+------------------+-------------------+-------------------+-------------------+------------------+-------------------+------------------+------------------+-----------------+-------------------+-------------------+-------------------+------------------+-------------------+-------------------+------------------+-------------------+-------------------+-------------------+-------------------+-------------------+------------------+-------------------+------------------+-------------------+------------------+-------------------+-------------------+\n",
      "|summary|         HDI Rank|    Country|               1990|              1991|               1992|               1993|               1994|              1995|               1996|              1997|              1998|             1999|               2000|               2001|               2002|              2003|               2004|               2005|              2006|               2007|               2008|               2009|               2010|               2011|              2012|               2013|              2014|               2015|              2016|               2017|               2018|\n",
      "+-------+-----------------+-----------+-------------------+------------------+-------------------+-------------------+-------------------+------------------+-------------------+------------------+------------------+-----------------+-------------------+-------------------+-------------------+------------------+-------------------+-------------------+------------------+-------------------+-------------------+-------------------+-------------------+-------------------+------------------+-------------------+------------------+-------------------+------------------+-------------------+-------------------+\n",
      "|  count|              189|        189|                189|               189|                189|                189|                189|               189|                189|               189|               189|              189|                189|                189|                189|               189|                189|                189|               189|                189|                189|                189|                189|                189|               189|                189|               189|                189|               189|                189|                189|\n",
      "|   mean|94.77248677248677|       null| 0.5949513888888888|0.5971597222222224| 0.5969790209790211| 0.6028611111111108| 0.6065277777777774|0.6103445945945944|  0.615858108108108|0.6191700680272109|0.6262432432432437|0.626814569536424|   0.62732183908046| 0.6329540229885059| 0.6388800000000002| 0.643994350282486| 0.6505307262569835| 0.6540537634408602|0.6611290322580645| 0.6681075268817206| 0.6741612903225808|              0.678|  0.681712765957447| 0.6874202127659573|0.6922659574468086|  0.697127659574468|0.7013989361702128| 0.7053510638297874| 0.708489361702128| 0.7112222222222223| 0.7134708994708996|\n",
      "| stddev|54.74045223905498|       null|0.16559426064600388|0.1659663654186352|0.16557515924678484|0.16770526973848346|0.17017526729998575|0.1689925616379318|0.16869249123917165|0.1681109945696617|0.1693128015950585| 0.17098102834227|0.16947293297641114|0.16910990427413294|0.16791377918854467|0.1680289645342278|0.16595157309405328|0.16487937379999615| 0.163487910177461|0.16223995991027756|0.16067884977099967|0.15777250128638434|0.15668153758878414|0.15506161968527132|0.1538444367098304|0.15355305195799956|0.1526419928026906|0.15229314593351687|0.1521042243771921|0.15121385917194813|0.15079461673378391|\n",
      "|    min|                1|Afghanistan|                 ..|                ..|                 ..|                 ..|                 ..|                ..|                 ..|                ..|                ..|               ..|                 ..|                 ..|                 ..|                ..|                 ..|                 ..|                ..|                 ..|                 ..|                 ..|                 ..|                 ..|                ..|                 ..|                ..|                 ..|                ..|              0.373|              0.377|\n",
      "|    max|              189|   Zimbabwe|              0.866|             0.867|              0.868|              0.872|              0.885|             0.883|              0.888|             0.894|             0.906|            0.911|              0.917|              0.916|              0.918|             0.924|              0.934|              0.932|             0.936|              0.938|              0.938|              0.938|              0.942|              0.943|             0.942|              0.946|             0.945|              0.948|             0.951|              0.953|              0.954|\n",
      "+-------+-----------------+-----------+-------------------+------------------+-------------------+-------------------+-------------------+------------------+-------------------+------------------+------------------+-----------------+-------------------+-------------------+-------------------+------------------+-------------------+-------------------+------------------+-------------------+-------------------+-------------------+-------------------+-------------------+------------------+-------------------+------------------+-------------------+------------------+-------------------+-------------------+\n",
      "\n"
     ]
    }
   ],
   "source": [
    "#Explore the general statistics of the dataset Human Development Index\n",
    "HDIStats.describe().show()"
   ]
  },
  {
   "cell_type": "code",
   "execution_count": 8,
   "metadata": {},
   "outputs": [
    {
     "name": "stdout",
     "output_type": "stream",
     "text": [
      "['Country Name', 'Year', 'Employment to population ratio', 'GDP', 'GDP per capita', 'Gini index']\n",
      "+------------+----+------------------------------+----+--------------+----------+\n",
      "|Country Name|Year|Employment to population ratio| GDP|GDP per capita|Gini index|\n",
      "+------------+----+------------------------------+----+--------------+----------+\n",
      "| Afghanistan|1985|                          null|null|          null|      null|\n",
      "| Afghanistan|1986|                          null|null|          null|      null|\n",
      "| Afghanistan|1987|                          null|null|          null|      null|\n",
      "| Afghanistan|1988|                          null|null|          null|      null|\n",
      "| Afghanistan|1989|                          null|null|          null|      null|\n",
      "| Afghanistan|1990|                          null|null|          null|      null|\n",
      "+------------+----+------------------------------+----+--------------+----------+\n",
      "only showing top 6 rows\n",
      "\n"
     ]
    }
   ],
   "source": [
    "#Explore the data quality of the dataset World Development Indicators\n",
    "print(WDIStats.columns)\n",
    "WDIStats.show(6)"
   ]
  },
  {
   "cell_type": "code",
   "execution_count": 9,
   "metadata": {},
   "outputs": [
    {
     "name": "stdout",
     "output_type": "stream",
     "text": [
      "root\n",
      " |-- Country Name: string (nullable = true)\n",
      " |-- Year: integer (nullable = true)\n",
      " |-- Employment to population ratio: double (nullable = true)\n",
      " |-- GDP: double (nullable = true)\n",
      " |-- GDP per capita: double (nullable = true)\n",
      " |-- Gini index: double (nullable = true)\n",
      "\n"
     ]
    }
   ],
   "source": [
    "#Explore the data type of the dataset World Development Indicators\n",
    "WDIStats.printSchema()"
   ]
  },
  {
   "cell_type": "code",
   "execution_count": 10,
   "metadata": {},
   "outputs": [
    {
     "name": "stdout",
     "output_type": "stream",
     "text": [
      "+-------+------------+-----------------+------------------------------+--------------------+------------------+-----------------+\n",
      "|summary|Country Name|             Year|Employment to population ratio|                 GDP|    GDP per capita|       Gini index|\n",
      "+-------+------------+-----------------+------------------------------+--------------------+------------------+-----------------+\n",
      "|  count|        6944|             6944|                          4862|                5979|              5976|             1550|\n",
      "|   mean|        null|           2000.5|              57.6225362242226|2.745890309848958...| 13124.04119241654|38.62148387096775|\n",
      "| stddev|        null|9.233757553344075|            11.968146617150545|1.111967617317697E12|20099.670239668914|9.432100956926329|\n",
      "|    min| Afghanistan|             1985|                   26.32999992|       2.144196696E7|       164.1918663|             20.2|\n",
      "|    max|    Zimbabwe|             2016|                    90.4469986|          1.69723E13|       194368.4055|             65.8|\n",
      "+-------+------------+-----------------+------------------------------+--------------------+------------------+-----------------+\n",
      "\n"
     ]
    }
   ],
   "source": [
    "#Explore the general statistics of the dataset World Development Indicators\n",
    "WDIStats.describe().show()"
   ]
  },
  {
   "cell_type": "code",
   "execution_count": 22,
   "metadata": {},
   "outputs": [
    {
     "name": "stdout",
     "output_type": "stream",
     "text": [
      "+-------+----+---+---+-----------+----------+\n",
      "|country|year|sex|age|suicides_no|population|\n",
      "+-------+----+---+---+-----------+----------+\n",
      "|      0|   0|  0|  0|       2256|      5460|\n",
      "+-------+----+---+---+-----------+----------+\n",
      "\n",
      "+-------+-------+-----+-----+-----+-----------+----------+\n",
      "|summary|country| year|  sex|  age|suicides_no|population|\n",
      "+-------+-------+-----+-----+-----+-----------+----------+\n",
      "|  count|  43776|43776|43776|43776|      41520|     38316|\n",
      "+-------+-------+-----+-----+-----+-----------+----------+\n",
      "\n"
     ]
    }
   ],
   "source": [
    "#Explore missing values in the dataset WHO Suicide Statistics\n",
    "from pyspark.sql.functions import when, count, col\n",
    "\n",
    "SuicideStats.select([count(when(col(c).isNull(), c)).alias(c) for c in SuicideStats.columns]).show()\n",
    "SuicideStats.describe().filter(col(\"summary\")  == \"count\").show()"
   ]
  },
  {
   "cell_type": "code",
   "execution_count": 21,
   "metadata": {},
   "outputs": [
    {
     "name": "stdout",
     "output_type": "stream",
     "text": [
      "+--------+-------+----+----+----+----+----+----+----+----+----+----+----+----+----+----+----+----+----+----+----+----+----+----+----+----+----+----+----+----+----+\n",
      "|HDI Rank|Country|1990|1991|1992|1993|1994|1995|1996|1997|1998|1999|2000|2001|2002|2003|2004|2005|2006|2007|2008|2009|2010|2011|2012|2013|2014|2015|2016|2017|2018|\n",
      "+--------+-------+----+----+----+----+----+----+----+----+----+----+----+----+----+----+----+----+----+----+----+----+----+----+----+----+----+----+----+----+----+\n",
      "|       0|      0|  45|  45|  46|  45|  45|  41|  41|  42|  41|  38|  15|  15|  14|  12|  10|   3|   3|   3|   3|   3|   1|   1|   1|   1|   1|   1|   1|   0|   0|\n",
      "+--------+-------+----+----+----+----+----+----+----+----+----+----+----+----+----+----+----+----+----+----+----+----+----+----+----+----+----+----+----+----+----+\n",
      "\n",
      "+-------+--------+-------+----+----+----+----+----+----+----+----+----+----+----+----+----+----+----+----+----+----+----+----+----+----+----+----+----+----+----+----+----+\n",
      "|summary|HDI Rank|Country|1990|1991|1992|1993|1994|1995|1996|1997|1998|1999|2000|2001|2002|2003|2004|2005|2006|2007|2008|2009|2010|2011|2012|2013|2014|2015|2016|2017|2018|\n",
      "+-------+--------+-------+----+----+----+----+----+----+----+----+----+----+----+----+----+----+----+----+----+----+----+----+----+----+----+----+----+----+----+----+----+\n",
      "|  count|     189|    189| 144| 144| 143| 144| 144| 148| 148| 147| 148| 151| 174| 174| 175| 177| 179| 186| 186| 186| 186| 186| 188| 188| 188| 188| 188| 188| 188| 189| 189|\n",
      "+-------+--------+-------+----+----+----+----+----+----+----+----+----+----+----+----+----+----+----+----+----+----+----+----+----+----+----+----+----+----+----+----+----+\n",
      "\n"
     ]
    }
   ],
   "source": [
    "#Re-import dataset, taking .. as null value\n",
    "HDIStats = spark.read.csv(\"data/Human Development Index.csv\",inferSchema=True, header=True, nullValue=\"..\")\n",
    "\n",
    "#Explore missing values in the dataset World Development Indicators\n",
    "HDIStats.select([count(when(col(c).isNull(), c)).alias(c) for c in HDIStats.columns]).show()\n",
    "HDIStats.describe().filter(col(\"summary\")  == \"count\").show()"
   ]
  },
  {
   "cell_type": "code",
   "execution_count": 23,
   "metadata": {},
   "outputs": [
    {
     "name": "stdout",
     "output_type": "stream",
     "text": [
      "+------------+----+------------------------------+---+--------------+----------+\n",
      "|Country Name|Year|Employment to population ratio|GDP|GDP per capita|Gini index|\n",
      "+------------+----+------------------------------+---+--------------+----------+\n",
      "|           0|   0|                          2082|965|           968|      5394|\n",
      "+------------+----+------------------------------+---+--------------+----------+\n",
      "\n",
      "+-------+------------+----+------------------------------+----+--------------+----------+\n",
      "|summary|Country Name|Year|Employment to population ratio| GDP|GDP per capita|Gini index|\n",
      "+-------+------------+----+------------------------------+----+--------------+----------+\n",
      "|  count|        6944|6944|                          4862|5979|          5976|      1550|\n",
      "+-------+------------+----+------------------------------+----+--------------+----------+\n",
      "\n"
     ]
    }
   ],
   "source": [
    "#Explore missing values in the dataset World Development Indicators\n",
    "WDIStats.select([count(when(col(c).isNull(), c)).alias(c) for c in WDIStats.columns]).show()\n",
    "WDIStats.describe().filter(col(\"summary\")  == \"count\").show()"
   ]
  },
  {
   "cell_type": "code",
   "execution_count": 24,
   "metadata": {},
   "outputs": [],
   "source": [
    "#TODO\n",
    "\n",
    "#Explore the extreme values and outliers of the dataset WHO Suicide Statistics\n",
    "#Explore the extreme values and outliers of the dataset Human Development Index\n",
    "#Explore the extreme values and outliers of the dataset World Development Indicators"
   ]
  },
  {
   "cell_type": "code",
   "execution_count": 25,
   "metadata": {},
   "outputs": [
    {
     "ename": "AttributeError",
     "evalue": "'DataFrame' object has no attribute 'hist'",
     "output_type": "error",
     "traceback": [
      "\u001b[0;31m---------------------------------------------------------------------------\u001b[0m",
      "\u001b[0;31mAttributeError\u001b[0m                            Traceback (most recent call last)",
      "\u001b[0;32m<ipython-input-25-684709c90882>\u001b[0m in \u001b[0;36m<module>\u001b[0;34m()\u001b[0m\n\u001b[1;32m      2\u001b[0m \u001b[0;34m\u001b[0m\u001b[0m\n\u001b[1;32m      3\u001b[0m \u001b[0;31m#Explore the data pattern of the dataset WHO Suicide Statistics\u001b[0m\u001b[0;34m\u001b[0m\u001b[0;34m\u001b[0m\u001b[0m\n\u001b[0;32m----> 4\u001b[0;31m \u001b[0mSuicideStats\u001b[0m\u001b[0;34m.\u001b[0m\u001b[0mhist\u001b[0m\u001b[0;34m(\u001b[0m\u001b[0;34m)\u001b[0m\u001b[0;34m\u001b[0m\u001b[0m\n\u001b[0m\u001b[1;32m      5\u001b[0m \u001b[0;31m#Explore the data pattern of the dataset Human Development Index\u001b[0m\u001b[0;34m\u001b[0m\u001b[0;34m\u001b[0m\u001b[0m\n\u001b[1;32m      6\u001b[0m \u001b[0;31m#Explore the data pattern of the dataset World Development Indicators\u001b[0m\u001b[0;34m\u001b[0m\u001b[0;34m\u001b[0m\u001b[0m\n",
      "\u001b[0;32m~/spark-2.1.1-bin-hadoop2.7/python/pyspark/sql/dataframe.py\u001b[0m in \u001b[0;36m__getattr__\u001b[0;34m(self, name)\u001b[0m\n\u001b[1;32m    971\u001b[0m         \u001b[0;32mif\u001b[0m \u001b[0mname\u001b[0m \u001b[0;32mnot\u001b[0m \u001b[0;32min\u001b[0m \u001b[0mself\u001b[0m\u001b[0;34m.\u001b[0m\u001b[0mcolumns\u001b[0m\u001b[0;34m:\u001b[0m\u001b[0;34m\u001b[0m\u001b[0m\n\u001b[1;32m    972\u001b[0m             raise AttributeError(\n\u001b[0;32m--> 973\u001b[0;31m                 \"'%s' object has no attribute '%s'\" % (self.__class__.__name__, name))\n\u001b[0m\u001b[1;32m    974\u001b[0m         \u001b[0mjc\u001b[0m \u001b[0;34m=\u001b[0m \u001b[0mself\u001b[0m\u001b[0;34m.\u001b[0m\u001b[0m_jdf\u001b[0m\u001b[0;34m.\u001b[0m\u001b[0mapply\u001b[0m\u001b[0;34m(\u001b[0m\u001b[0mname\u001b[0m\u001b[0;34m)\u001b[0m\u001b[0;34m\u001b[0m\u001b[0m\n\u001b[1;32m    975\u001b[0m         \u001b[0;32mreturn\u001b[0m \u001b[0mColumn\u001b[0m\u001b[0;34m(\u001b[0m\u001b[0mjc\u001b[0m\u001b[0;34m)\u001b[0m\u001b[0;34m\u001b[0m\u001b[0m\n",
      "\u001b[0;31mAttributeError\u001b[0m: 'DataFrame' object has no attribute 'hist'"
     ]
    }
   ],
   "source": [
    "#TODO\n",
    "\n",
    "#Explore the data pattern of the dataset WHO Suicide Statistics\n",
    "SuicideStats.hist()\n",
    "#Explore the data pattern of the dataset Human Development Index\n",
    "#Explore the data pattern of the dataset World Development Indicators\n"
   ]
  },
  {
   "cell_type": "code",
   "execution_count": 14,
   "metadata": {},
   "outputs": [
    {
     "name": "stdout",
     "output_type": "stream",
     "text": [
      "+-----------+\n",
      "|        age|\n",
      "+-----------+\n",
      "|15-24 years|\n",
      "|25-34 years|\n",
      "|35-54 years|\n",
      "| 5-14 years|\n",
      "|55-74 years|\n",
      "|  75+ years|\n",
      "|15-24 years|\n",
      "|25-34 years|\n",
      "|35-54 years|\n",
      "| 5-14 years|\n",
      "|55-74 years|\n",
      "|  75+ years|\n",
      "|15-24 years|\n",
      "|25-34 years|\n",
      "|35-54 years|\n",
      "| 5-14 years|\n",
      "|55-74 years|\n",
      "|  75+ years|\n",
      "|15-24 years|\n",
      "|25-34 years|\n",
      "+-----------+\n",
      "only showing top 20 rows\n",
      "\n"
     ]
    }
   ],
   "source": [
    "#Data Manipulation\n",
    "from pyspark.sql.types import (StructField,StringType,IntegerType,StructType)\n",
    "\n",
    "#Selecting Items\n",
    "#select records with populartion greater than 0\n",
    "SuicideStats.createOrReplaceTempView('suicideStats')\n",
    "SuicideStats = spark.sql(\"SELECT age FROM suicideStats WHERE population >= 0\")\n",
    "SuicideStats.show()"
   ]
  },
  {
   "cell_type": "code",
   "execution_count": 9,
   "metadata": {},
   "outputs": [
    {
     "data": {
      "text/plain": [
       "['Country',\n",
       " '1990',\n",
       " '1991',\n",
       " '1992',\n",
       " '1993',\n",
       " '1994',\n",
       " '1995',\n",
       " '1996',\n",
       " '1997',\n",
       " '1998',\n",
       " '1999',\n",
       " '2000',\n",
       " '2001',\n",
       " '2002',\n",
       " '2003',\n",
       " '2004',\n",
       " '2005',\n",
       " '2006',\n",
       " '2007',\n",
       " '2008',\n",
       " '2009',\n",
       " '2010',\n",
       " '2011',\n",
       " '2012',\n",
       " '2013',\n",
       " '2014',\n",
       " '2015',\n",
       " '2016',\n",
       " '2017',\n",
       " '2018']"
      ]
     },
     "execution_count": 9,
     "metadata": {},
     "output_type": "execute_result"
    }
   ],
   "source": [
    "#remove HDI Rank from HDIStats\n",
    "HDIStats.drop(\"HDI Rank\").columns"
   ]
  },
  {
   "cell_type": "code",
   "execution_count": 15,
   "metadata": {},
   "outputs": [
    {
     "ename": "AnalysisException",
     "evalue": "'Cannot resolve column name \"suicides_no\" among (age);'",
     "output_type": "error",
     "traceback": [
      "\u001b[0;31m---------------------------------------------------------------------------\u001b[0m",
      "\u001b[0;31mPy4JJavaError\u001b[0m                             Traceback (most recent call last)",
      "\u001b[0;32m~/spark-2.1.1-bin-hadoop2.7/python/pyspark/sql/utils.py\u001b[0m in \u001b[0;36mdeco\u001b[0;34m(*a, **kw)\u001b[0m\n\u001b[1;32m     62\u001b[0m         \u001b[0;32mtry\u001b[0m\u001b[0;34m:\u001b[0m\u001b[0;34m\u001b[0m\u001b[0m\n\u001b[0;32m---> 63\u001b[0;31m             \u001b[0;32mreturn\u001b[0m \u001b[0mf\u001b[0m\u001b[0;34m(\u001b[0m\u001b[0;34m*\u001b[0m\u001b[0ma\u001b[0m\u001b[0;34m,\u001b[0m \u001b[0;34m**\u001b[0m\u001b[0mkw\u001b[0m\u001b[0;34m)\u001b[0m\u001b[0;34m\u001b[0m\u001b[0m\n\u001b[0m\u001b[1;32m     64\u001b[0m         \u001b[0;32mexcept\u001b[0m \u001b[0mpy4j\u001b[0m\u001b[0;34m.\u001b[0m\u001b[0mprotocol\u001b[0m\u001b[0;34m.\u001b[0m\u001b[0mPy4JJavaError\u001b[0m \u001b[0;32mas\u001b[0m \u001b[0me\u001b[0m\u001b[0;34m:\u001b[0m\u001b[0;34m\u001b[0m\u001b[0m\n",
      "\u001b[0;32m~/spark-2.1.1-bin-hadoop2.7/python/lib/py4j-0.10.4-src.zip/py4j/protocol.py\u001b[0m in \u001b[0;36mget_return_value\u001b[0;34m(answer, gateway_client, target_id, name)\u001b[0m\n\u001b[1;32m    318\u001b[0m                     \u001b[0;34m\"An error occurred while calling {0}{1}{2}.\\n\"\u001b[0m\u001b[0;34m.\u001b[0m\u001b[0;34m\u001b[0m\u001b[0m\n\u001b[0;32m--> 319\u001b[0;31m                     format(target_id, \".\", name), value)\n\u001b[0m\u001b[1;32m    320\u001b[0m             \u001b[0;32melse\u001b[0m\u001b[0;34m:\u001b[0m\u001b[0;34m\u001b[0m\u001b[0m\n",
      "\u001b[0;31mPy4JJavaError\u001b[0m: An error occurred while calling o83.drop.\n: org.apache.spark.sql.AnalysisException: Cannot resolve column name \"suicides_no\" among (age);\n\tat org.apache.spark.sql.Dataset$$anonfun$resolve$1.apply(Dataset.scala:219)\n\tat org.apache.spark.sql.Dataset$$anonfun$resolve$1.apply(Dataset.scala:219)\n\tat scala.Option.getOrElse(Option.scala:121)\n\tat org.apache.spark.sql.Dataset.resolve(Dataset.scala:218)\n\tat org.apache.spark.sql.DataFrameNaFunctions$$anonfun$1.apply(DataFrameNaFunctions.scala:124)\n\tat org.apache.spark.sql.DataFrameNaFunctions$$anonfun$1.apply(DataFrameNaFunctions.scala:124)\n\tat scala.collection.TraversableLike$$anonfun$map$1.apply(TraversableLike.scala:234)\n\tat scala.collection.TraversableLike$$anonfun$map$1.apply(TraversableLike.scala:234)\n\tat scala.collection.Iterator$class.foreach(Iterator.scala:893)\n\tat scala.collection.AbstractIterator.foreach(Iterator.scala:1336)\n\tat scala.collection.IterableLike$class.foreach(IterableLike.scala:72)\n\tat scala.collection.AbstractIterable.foreach(Iterable.scala:54)\n\tat scala.collection.TraversableLike$class.map(TraversableLike.scala:234)\n\tat scala.collection.AbstractTraversable.map(Traversable.scala:104)\n\tat org.apache.spark.sql.DataFrameNaFunctions.drop(DataFrameNaFunctions.scala:124)\n\tat sun.reflect.NativeMethodAccessorImpl.invoke0(Native Method)\n\tat sun.reflect.NativeMethodAccessorImpl.invoke(NativeMethodAccessorImpl.java:62)\n\tat sun.reflect.DelegatingMethodAccessorImpl.invoke(DelegatingMethodAccessorImpl.java:43)\n\tat java.lang.reflect.Method.invoke(Method.java:498)\n\tat py4j.reflection.MethodInvoker.invoke(MethodInvoker.java:244)\n\tat py4j.reflection.ReflectionEngine.invoke(ReflectionEngine.java:357)\n\tat py4j.Gateway.invoke(Gateway.java:280)\n\tat py4j.commands.AbstractCommand.invokeMethod(AbstractCommand.java:132)\n\tat py4j.commands.CallCommand.execute(CallCommand.java:79)\n\tat py4j.GatewayConnection.run(GatewayConnection.java:214)\n\tat java.lang.Thread.run(Thread.java:748)\n",
      "\nDuring handling of the above exception, another exception occurred:\n",
      "\u001b[0;31mAnalysisException\u001b[0m                         Traceback (most recent call last)",
      "\u001b[0;32m<ipython-input-15-8a4dff3ac98d>\u001b[0m in \u001b[0;36m<module>\u001b[0;34m()\u001b[0m\n\u001b[1;32m      1\u001b[0m \u001b[0;31m#Data cleaning\u001b[0m\u001b[0;34m\u001b[0m\u001b[0;34m\u001b[0m\u001b[0m\n\u001b[1;32m      2\u001b[0m \u001b[0;31m#remove misssing values from WHO Suicide Statistics\u001b[0m\u001b[0;34m\u001b[0m\u001b[0;34m\u001b[0m\u001b[0m\n\u001b[0;32m----> 3\u001b[0;31m \u001b[0mSuicideStats\u001b[0m \u001b[0;34m=\u001b[0m \u001b[0mSuicideStats\u001b[0m\u001b[0;34m.\u001b[0m\u001b[0mna\u001b[0m\u001b[0;34m.\u001b[0m\u001b[0mdrop\u001b[0m\u001b[0;34m(\u001b[0m\u001b[0msubset\u001b[0m\u001b[0;34m=\u001b[0m\u001b[0;34m\"suicides_no\"\u001b[0m\u001b[0;34m)\u001b[0m\u001b[0;34m\u001b[0m\u001b[0m\n\u001b[0m\u001b[1;32m      4\u001b[0m \u001b[0mSuicideStats\u001b[0m\u001b[0;34m.\u001b[0m\u001b[0mshow\u001b[0m\u001b[0;34m(\u001b[0m\u001b[0;34m)\u001b[0m\u001b[0;34m\u001b[0m\u001b[0m\n",
      "\u001b[0;32m~/spark-2.1.1-bin-hadoop2.7/python/pyspark/sql/dataframe.py\u001b[0m in \u001b[0;36mdrop\u001b[0;34m(self, how, thresh, subset)\u001b[0m\n\u001b[1;32m   1622\u001b[0m \u001b[0;34m\u001b[0m\u001b[0m\n\u001b[1;32m   1623\u001b[0m     \u001b[0;32mdef\u001b[0m \u001b[0mdrop\u001b[0m\u001b[0;34m(\u001b[0m\u001b[0mself\u001b[0m\u001b[0;34m,\u001b[0m \u001b[0mhow\u001b[0m\u001b[0;34m=\u001b[0m\u001b[0;34m'any'\u001b[0m\u001b[0;34m,\u001b[0m \u001b[0mthresh\u001b[0m\u001b[0;34m=\u001b[0m\u001b[0;32mNone\u001b[0m\u001b[0;34m,\u001b[0m \u001b[0msubset\u001b[0m\u001b[0;34m=\u001b[0m\u001b[0;32mNone\u001b[0m\u001b[0;34m)\u001b[0m\u001b[0;34m:\u001b[0m\u001b[0;34m\u001b[0m\u001b[0m\n\u001b[0;32m-> 1624\u001b[0;31m         \u001b[0;32mreturn\u001b[0m \u001b[0mself\u001b[0m\u001b[0;34m.\u001b[0m\u001b[0mdf\u001b[0m\u001b[0;34m.\u001b[0m\u001b[0mdropna\u001b[0m\u001b[0;34m(\u001b[0m\u001b[0mhow\u001b[0m\u001b[0;34m=\u001b[0m\u001b[0mhow\u001b[0m\u001b[0;34m,\u001b[0m \u001b[0mthresh\u001b[0m\u001b[0;34m=\u001b[0m\u001b[0mthresh\u001b[0m\u001b[0;34m,\u001b[0m \u001b[0msubset\u001b[0m\u001b[0;34m=\u001b[0m\u001b[0msubset\u001b[0m\u001b[0;34m)\u001b[0m\u001b[0;34m\u001b[0m\u001b[0m\n\u001b[0m\u001b[1;32m   1625\u001b[0m \u001b[0;34m\u001b[0m\u001b[0m\n\u001b[1;32m   1626\u001b[0m     \u001b[0mdrop\u001b[0m\u001b[0;34m.\u001b[0m\u001b[0m__doc__\u001b[0m \u001b[0;34m=\u001b[0m \u001b[0mDataFrame\u001b[0m\u001b[0;34m.\u001b[0m\u001b[0mdropna\u001b[0m\u001b[0;34m.\u001b[0m\u001b[0m__doc__\u001b[0m\u001b[0;34m\u001b[0m\u001b[0m\n",
      "\u001b[0;32m~/spark-2.1.1-bin-hadoop2.7/python/pyspark/sql/dataframe.py\u001b[0m in \u001b[0;36mdropna\u001b[0;34m(self, how, thresh, subset)\u001b[0m\n\u001b[1;32m   1221\u001b[0m             \u001b[0mthresh\u001b[0m \u001b[0;34m=\u001b[0m \u001b[0mlen\u001b[0m\u001b[0;34m(\u001b[0m\u001b[0msubset\u001b[0m\u001b[0;34m)\u001b[0m \u001b[0;32mif\u001b[0m \u001b[0mhow\u001b[0m \u001b[0;34m==\u001b[0m \u001b[0;34m'any'\u001b[0m \u001b[0;32melse\u001b[0m \u001b[0;36m1\u001b[0m\u001b[0;34m\u001b[0m\u001b[0m\n\u001b[1;32m   1222\u001b[0m \u001b[0;34m\u001b[0m\u001b[0m\n\u001b[0;32m-> 1223\u001b[0;31m         \u001b[0;32mreturn\u001b[0m \u001b[0mDataFrame\u001b[0m\u001b[0;34m(\u001b[0m\u001b[0mself\u001b[0m\u001b[0;34m.\u001b[0m\u001b[0m_jdf\u001b[0m\u001b[0;34m.\u001b[0m\u001b[0mna\u001b[0m\u001b[0;34m(\u001b[0m\u001b[0;34m)\u001b[0m\u001b[0;34m.\u001b[0m\u001b[0mdrop\u001b[0m\u001b[0;34m(\u001b[0m\u001b[0mthresh\u001b[0m\u001b[0;34m,\u001b[0m \u001b[0mself\u001b[0m\u001b[0;34m.\u001b[0m\u001b[0m_jseq\u001b[0m\u001b[0;34m(\u001b[0m\u001b[0msubset\u001b[0m\u001b[0;34m)\u001b[0m\u001b[0;34m)\u001b[0m\u001b[0;34m,\u001b[0m \u001b[0mself\u001b[0m\u001b[0;34m.\u001b[0m\u001b[0msql_ctx\u001b[0m\u001b[0;34m)\u001b[0m\u001b[0;34m\u001b[0m\u001b[0m\n\u001b[0m\u001b[1;32m   1224\u001b[0m \u001b[0;34m\u001b[0m\u001b[0m\n\u001b[1;32m   1225\u001b[0m     \u001b[0;34m@\u001b[0m\u001b[0msince\u001b[0m\u001b[0;34m(\u001b[0m\u001b[0;34m\"1.3.1\"\u001b[0m\u001b[0;34m)\u001b[0m\u001b[0;34m\u001b[0m\u001b[0m\n",
      "\u001b[0;32m~/spark-2.1.1-bin-hadoop2.7/python/lib/py4j-0.10.4-src.zip/py4j/java_gateway.py\u001b[0m in \u001b[0;36m__call__\u001b[0;34m(self, *args)\u001b[0m\n\u001b[1;32m   1131\u001b[0m         \u001b[0manswer\u001b[0m \u001b[0;34m=\u001b[0m \u001b[0mself\u001b[0m\u001b[0;34m.\u001b[0m\u001b[0mgateway_client\u001b[0m\u001b[0;34m.\u001b[0m\u001b[0msend_command\u001b[0m\u001b[0;34m(\u001b[0m\u001b[0mcommand\u001b[0m\u001b[0;34m)\u001b[0m\u001b[0;34m\u001b[0m\u001b[0m\n\u001b[1;32m   1132\u001b[0m         return_value = get_return_value(\n\u001b[0;32m-> 1133\u001b[0;31m             answer, self.gateway_client, self.target_id, self.name)\n\u001b[0m\u001b[1;32m   1134\u001b[0m \u001b[0;34m\u001b[0m\u001b[0m\n\u001b[1;32m   1135\u001b[0m         \u001b[0;32mfor\u001b[0m \u001b[0mtemp_arg\u001b[0m \u001b[0;32min\u001b[0m \u001b[0mtemp_args\u001b[0m\u001b[0;34m:\u001b[0m\u001b[0;34m\u001b[0m\u001b[0m\n",
      "\u001b[0;32m~/spark-2.1.1-bin-hadoop2.7/python/pyspark/sql/utils.py\u001b[0m in \u001b[0;36mdeco\u001b[0;34m(*a, **kw)\u001b[0m\n\u001b[1;32m     67\u001b[0m                                              e.java_exception.getStackTrace()))\n\u001b[1;32m     68\u001b[0m             \u001b[0;32mif\u001b[0m \u001b[0ms\u001b[0m\u001b[0;34m.\u001b[0m\u001b[0mstartswith\u001b[0m\u001b[0;34m(\u001b[0m\u001b[0;34m'org.apache.spark.sql.AnalysisException: '\u001b[0m\u001b[0;34m)\u001b[0m\u001b[0;34m:\u001b[0m\u001b[0;34m\u001b[0m\u001b[0m\n\u001b[0;32m---> 69\u001b[0;31m                 \u001b[0;32mraise\u001b[0m \u001b[0mAnalysisException\u001b[0m\u001b[0;34m(\u001b[0m\u001b[0ms\u001b[0m\u001b[0;34m.\u001b[0m\u001b[0msplit\u001b[0m\u001b[0;34m(\u001b[0m\u001b[0;34m': '\u001b[0m\u001b[0;34m,\u001b[0m \u001b[0;36m1\u001b[0m\u001b[0;34m)\u001b[0m\u001b[0;34m[\u001b[0m\u001b[0;36m1\u001b[0m\u001b[0;34m]\u001b[0m\u001b[0;34m,\u001b[0m \u001b[0mstackTrace\u001b[0m\u001b[0;34m)\u001b[0m\u001b[0;34m\u001b[0m\u001b[0m\n\u001b[0m\u001b[1;32m     70\u001b[0m             \u001b[0;32mif\u001b[0m \u001b[0ms\u001b[0m\u001b[0;34m.\u001b[0m\u001b[0mstartswith\u001b[0m\u001b[0;34m(\u001b[0m\u001b[0;34m'org.apache.spark.sql.catalyst.analysis'\u001b[0m\u001b[0;34m)\u001b[0m\u001b[0;34m:\u001b[0m\u001b[0;34m\u001b[0m\u001b[0m\n\u001b[1;32m     71\u001b[0m                 \u001b[0;32mraise\u001b[0m \u001b[0mAnalysisException\u001b[0m\u001b[0;34m(\u001b[0m\u001b[0ms\u001b[0m\u001b[0;34m.\u001b[0m\u001b[0msplit\u001b[0m\u001b[0;34m(\u001b[0m\u001b[0;34m': '\u001b[0m\u001b[0;34m,\u001b[0m \u001b[0;36m1\u001b[0m\u001b[0;34m)\u001b[0m\u001b[0;34m[\u001b[0m\u001b[0;36m1\u001b[0m\u001b[0;34m]\u001b[0m\u001b[0;34m,\u001b[0m \u001b[0mstackTrace\u001b[0m\u001b[0;34m)\u001b[0m\u001b[0;34m\u001b[0m\u001b[0m\n",
      "\u001b[0;31mAnalysisException\u001b[0m: 'Cannot resolve column name \"suicides_no\" among (age);'"
     ]
    }
   ],
   "source": [
    "#Data cleaning\n",
    "#remove misssing values from WHO Suicide Statistics\n",
    "SuicideStats = SuicideStats.na.drop(subset=\"suicides_no\")\n",
    "SuicideStats.show()"
   ]
  },
  {
   "cell_type": "code",
   "execution_count": null,
   "metadata": {},
   "outputs": [],
   "source": [
    "#cleaning HDIStats\n",
    "#replace missing value with the mean value of this country\n",
    "from pyspark.sql.functions import mean\n"
   ]
  },
  {
   "cell_type": "code",
   "execution_count": null,
   "metadata": {},
   "outputs": [],
   "source": [
    "#cleanig WDIStats\n",
    "#replace missing value with the mean value of this country\n",
    "mean_sales = HDIStats.select(mean(df['Sales'])).collect()\n",
    "mean_sales\n",
    "\n",
    "#remove misssing values from World Development Indicators\n",
    "\n",
    "#Discard outliers and extremes"
   ]
  },
  {
   "cell_type": "code",
   "execution_count": null,
   "metadata": {},
   "outputs": [],
   "source": [
    "#Construct the Data\n",
    "#add new feature suicidePer100k to SuicideStats\n"
   ]
  },
  {
   "cell_type": "code",
   "execution_count": null,
   "metadata": {},
   "outputs": [],
   "source": [
    "#transport HDI score "
   ]
  },
  {
   "cell_type": "code",
   "execution_count": null,
   "metadata": {},
   "outputs": [],
   "source": [
    "#Integrate Data Sources"
   ]
  },
  {
   "cell_type": "code",
   "execution_count": null,
   "metadata": {},
   "outputs": [],
   "source": [
    "#Format the data\n",
    "df = df.withColumn(\"longitude\", df[\"longitude\"].cast(FloatType())) \\"
   ]
  },
  {
   "cell_type": "code",
   "execution_count": null,
   "metadata": {},
   "outputs": [],
   "source": [
    "#Reduce the data"
   ]
  },
  {
   "cell_type": "code",
   "execution_count": null,
   "metadata": {},
   "outputs": [],
   "source": [
    "#Project the data"
   ]
  }
 ],
 "metadata": {
  "kernelspec": {
   "display_name": "Python 3",
   "language": "python",
   "name": "python3"
  },
  "language_info": {
   "codemirror_mode": {
    "name": "ipython",
    "version": 3
   },
   "file_extension": ".py",
   "mimetype": "text/x-python",
   "name": "python",
   "nbconvert_exporter": "python",
   "pygments_lexer": "ipython3",
   "version": "3.5.2"
  }
 },
 "nbformat": 4,
 "nbformat_minor": 2
}
