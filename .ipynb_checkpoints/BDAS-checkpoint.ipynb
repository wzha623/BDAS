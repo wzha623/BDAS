{
 "cells": [
  {
   "cell_type": "code",
   "execution_count": 16,
   "metadata": {},
   "outputs": [],
   "source": [
    "import findspark\n",
    "findspark.init('/home/ubuntu/spark-2.1.1-bin-hadoop2.7')\n",
    "import pyspark\n",
    "from pyspark.sql import SparkSession\n",
    "spark = SparkSession.builder.appName('basics').getOrCreate()"
   ]
  },
  {
   "cell_type": "code",
   "execution_count": 17,
   "metadata": {},
   "outputs": [],
   "source": [
    "# Use Spark to read csv file\n",
    "SuicideStats = spark.read.csv(\"data/who_suicide_statistics.csv\",inferSchema=True,header=True)\n",
    "HDIStats = spark.read.csv(\"data/Human Development Index.csv\",inferSchema=True,header=True)\n",
    "WDIStats = spark.read.csv(\"data/World_Development_Indicators.csv\",inferSchema=True,header=True)"
   ]
  },
  {
   "cell_type": "code",
   "execution_count": 18,
   "metadata": {},
   "outputs": [
    {
     "name": "stdout",
     "output_type": "stream",
     "text": [
      "+-------+----+------+-----------+-----------+----------+\n",
      "|country|year|   sex|        age|suicides_no|population|\n",
      "+-------+----+------+-----------+-----------+----------+\n",
      "|Albania|1985|female|15-24 years|       null|    277900|\n",
      "|Albania|1985|female|25-34 years|       null|    246800|\n",
      "|Albania|1985|female|35-54 years|       null|    267500|\n",
      "|Albania|1985|female| 5-14 years|       null|    298300|\n",
      "|Albania|1985|female|55-74 years|       null|    138700|\n",
      "|Albania|1985|female|  75+ years|       null|     34200|\n",
      "|Albania|1985|  male|15-24 years|       null|    301400|\n",
      "|Albania|1985|  male|25-34 years|       null|    264200|\n",
      "|Albania|1985|  male|35-54 years|       null|    296700|\n",
      "|Albania|1985|  male| 5-14 years|       null|    325800|\n",
      "|Albania|1985|  male|55-74 years|       null|    132500|\n",
      "|Albania|1985|  male|  75+ years|       null|     21100|\n",
      "|Albania|1986|female|15-24 years|       null|    283900|\n",
      "|Albania|1986|female|25-34 years|       null|    252100|\n",
      "|Albania|1986|female|35-54 years|       null|    273200|\n",
      "|Albania|1986|female| 5-14 years|       null|    304700|\n",
      "|Albania|1986|female|55-74 years|       null|    141700|\n",
      "|Albania|1986|female|  75+ years|       null|     34900|\n",
      "|Albania|1986|  male|15-24 years|       null|    306700|\n",
      "|Albania|1986|  male|25-34 years|       null|    269000|\n",
      "+-------+----+------+-----------+-----------+----------+\n",
      "only showing top 20 rows\n",
      "\n",
      "+-------+--------+------------------+------+-----------+-----------------+------------------+\n",
      "|summary| country|              year|   sex|        age|      suicides_no|        population|\n",
      "+-------+--------+------------------+------+-----------+-----------------+------------------+\n",
      "|  count|   43776|             43776| 43776|      43776|            41520|             38316|\n",
      "|   mean|    null|1998.5024671052631|  null|       null|193.3153901734104|1664091.1353742562|\n",
      "| stddev|    null|10.338711176746282|  null|       null|800.5899259349637|3647231.2274873867|\n",
      "|    min| Albania|              1979|female|15-24 years|                0|               259|\n",
      "|    max|Zimbabwe|              2016|  male|  75+ years|            22338|          43805214|\n",
      "+-------+--------+------------------+------+-----------+-----------------+------------------+\n",
      "\n",
      "root\n",
      " |-- country: string (nullable = true)\n",
      " |-- year: integer (nullable = true)\n",
      " |-- sex: string (nullable = true)\n",
      " |-- age: string (nullable = true)\n",
      " |-- suicides_no: integer (nullable = true)\n",
      " |-- population: integer (nullable = true)\n",
      "\n"
     ]
    }
   ],
   "source": [
    "#Data Exploration\n",
    "\n",
    "#Explore suicide stats datasete \n",
    "SuicideStats.show() # visualise DataFrames.\n",
    "SuicideStats.columns #display columns\n",
    "SuicideStats.describe().show() #general statistics\n",
    "SuicideStats.printSchema() #data types"
   ]
  },
  {
   "cell_type": "code",
   "execution_count": 12,
   "metadata": {},
   "outputs": [
    {
     "name": "stdout",
     "output_type": "stream",
     "text": [
      "+--------+-----------------+-----+-----+-----+-----+-----+-----+-----+-----+-----+-----+-----+-----+-----+-----+-----+-----+-----+-----+-----+-----+-----+-----+-----+-----+-----+-----+-----+-----+-----+\n",
      "|HDI Rank|          Country| 1990| 1991| 1992| 1993| 1994| 1995| 1996| 1997| 1998| 1999| 2000| 2001| 2002| 2003| 2004| 2005| 2006| 2007| 2008| 2009| 2010| 2011| 2012| 2013| 2014| 2015| 2016| 2017| 2018|\n",
      "+--------+-----------------+-----+-----+-----+-----+-----+-----+-----+-----+-----+-----+-----+-----+-----+-----+-----+-----+-----+-----+-----+-----+-----+-----+-----+-----+-----+-----+-----+-----+-----+\n",
      "|     170|      Afghanistan|0.298|0.304|0.312|0.308|0.303|0.327|0.331|0.335|0.339|0.343|0.345|0.347|0.378|0.387|  0.4| 0.41|0.419|0.431|0.436|0.447|0.464|0.465|0.479|0.485|0.488| 0.49|0.491|0.493|0.496|\n",
      "|      69|          Albania|0.644|0.625|0.608|0.611|0.617|0.629|0.639|0.639|0.649| 0.66|0.667|0.673| 0.68|0.687|0.692|0.702|0.709|0.718|0.724|0.729| 0.74|0.759|0.771|0.781|0.787|0.788|0.788|0.789|0.791|\n",
      "|      82|          Algeria|0.578|0.582|0.589|0.593|0.597|0.602| 0.61|0.619|0.629|0.638|0.646|0.655|0.666|0.676|0.685|0.694|0.699|0.708|0.711| 0.72| 0.73|0.738|0.737|0.746|0.749|0.751|0.755|0.758|0.759|\n",
      "|      36|          Andorra|   ..|   ..|   ..|   ..|   ..|   ..|   ..|   ..|   ..|   ..|0.759|0.767| 0.78| 0.82|0.826|0.819|0.829|0.829|0.831| 0.83|0.828|0.827|0.849|0.846|0.853| 0.85|0.854|0.852|0.857|\n",
      "|     149|           Angola|   ..|   ..|   ..|   ..|   ..|   ..|   ..|   ..|   ..|0.384|0.394|0.404|0.419|0.428| 0.44|0.453|0.466|0.482|0.494|0.508| 0.51|0.525|0.537|0.547|0.557|0.565| 0.57|0.576|0.574|\n",
      "|      74|AntiguaandBarbuda|   ..|   ..|   ..|   ..|   ..|   ..|   ..|   ..|   ..|   ..|   ..|   ..|   ..|   ..|   ..|0.773|0.779|0.784|0.783|0.776|0.772|0.764|0.767|0.767|0.767| 0.77|0.772|0.774|0.776|\n",
      "|      48|        Argentina|0.707|0.714|0.719|0.725|0.729|0.731|0.738|0.746|0.752|0.763| 0.77|0.775| 0.77|0.775|0.775|0.777|0.801|0.806| 0.81| 0.81|0.818|0.823|0.823|0.824|0.825|0.828|0.828|0.832| 0.83|\n",
      "|      81|          Armenia|0.633|0.629|0.585| 0.59|  0.6|0.604|0.614|0.625|0.637|0.644|0.649|0.653|0.663|0.672|0.681|0.694|0.708|0.724|0.727|0.724|0.729|0.733|0.737|0.743|0.746|0.748|0.751|0.758| 0.76|\n",
      "|       6|        Australia|0.866|0.867|0.868|0.872|0.875|0.883|0.886|0.889|0.892|0.895|0.898|  0.9|0.903|0.904|0.907|0.902|0.905|0.908|0.922|0.923|0.926|0.928|0.932|0.926|0.929|0.933|0.935|0.937|0.938|\n",
      "|      20|          Austria|0.795|0.799|0.805|0.809|0.813|0.817| 0.82|0.824|0.828|0.834|0.838|0.849|0.838|0.842|0.849|0.855|0.861|0.881|0.884|0.886|0.895|0.897|0.899|0.896|0.904|0.906|0.909|0.912|0.914|\n",
      "|      87|       Azerbaijan|   ..|   ..|   ..|   ..|   ..|0.612|0.612|0.618|0.627|0.634|0.641|0.649|0.658|0.667|0.674|0.681|0.707|0.712|0.721|0.734|0.732|0.731|0.736|0.741|0.746|0.749|0.749|0.752|0.754|\n",
      "|      60|          Bahamas|   ..|   ..|   ..|   ..|   ..|   ..|   ..|   ..|   ..|   ..|0.787|0.788| 0.79|0.789| 0.79|0.791|0.794|0.794|0.794|0.793|0.795|0.795|0.797|0.797|0.796|0.799|  0.8|0.804|0.805|\n",
      "|      45|          Bahrain|0.736|0.755|0.756|0.764|0.768|0.775|0.779|0.781|0.784|0.786|0.792|0.792|0.792|0.793|0.792|0.792|0.793|0.796|0.796|0.794|0.796|0.798|  0.8|0.807| 0.81|0.834|0.839|0.839|0.838|\n",
      "|     135|       Bangladesh|0.388|0.395|0.403|0.411|0.419|0.427|0.436|0.444|0.453|0.462| 0.47|0.479|0.485|0.492|0.499|0.506|0.514|0.521|0.524|0.535|0.549|0.559|0.567|0.572|0.572|0.588|0.599|0.609|0.614|\n",
      "|      56|         Barbados|0.732|0.733|0.733|0.737|0.743|0.747|0.751|0.757|0.756|0.764|0.771| 0.77|0.774|0.778|0.782|0.786|0.791|0.796|0.799|0.801|0.799|0.802|0.811|0.812|0.812|0.812|0.814|0.813|0.813|\n",
      "|      50|          Belarus|   ..|   ..|   ..|   ..|   ..|0.656|0.661|0.667|0.671|0.676|0.682|0.689|0.696|0.704|0.714|0.724| 0.74|0.756|0.774|0.784|0.792|0.798|0.803|0.808|0.811|0.811|0.812|0.815|0.817|\n",
      "|      17|          Belgium|0.806| 0.81|0.825|0.838|0.845|0.851|0.857|0.862|0.866|0.868|0.873|0.876|0.879|0.882|0.885|0.889|0.896|0.899|0.899|0.899|0.903|0.904|0.905|0.908| 0.91|0.913|0.915|0.917|0.919|\n",
      "|     103|           Belize|0.613|0.618|0.624|0.627|0.627|0.627|0.627| 0.63|0.631|0.636|0.643|0.647|0.655|0.663|0.668|0.666|0.676|0.678|0.683|0.688|0.693|0.699|0.706|0.707| 0.71|0.715|0.722|0.719| 0.72|\n",
      "|     163|            Benin|0.348|0.354|0.358|0.365|0.368|0.373|0.377|0.381|0.385|0.391|0.398| 0.41|0.419|0.426|0.434| 0.44|0.447|0.455|0.462|0.468|0.473|0.479|0.489|  0.5|0.505| 0.51|0.512|0.515| 0.52|\n",
      "|     134|           Bhutan|   ..|   ..|   ..|   ..|   ..|   ..|   ..|   ..|   ..|   ..|   ..|   ..|   ..|   ..|   ..|0.512|0.524|0.539|0.547|0.559|0.571|0.581|0.591|0.594|0.601|0.606| 0.61|0.615|0.617|\n",
      "+--------+-----------------+-----+-----+-----+-----+-----+-----+-----+-----+-----+-----+-----+-----+-----+-----+-----+-----+-----+-----+-----+-----+-----+-----+-----+-----+-----+-----+-----+-----+-----+\n",
      "only showing top 20 rows\n",
      "\n",
      "+-------+-----------------+-----------+-------------------+------------------+-------------------+-------------------+-------------------+------------------+-------------------+------------------+------------------+-----------------+-------------------+-------------------+-------------------+------------------+-------------------+-------------------+------------------+-------------------+-------------------+-------------------+-------------------+-------------------+------------------+-------------------+------------------+-------------------+------------------+-------------------+-------------------+\n",
      "|summary|         HDI Rank|    Country|               1990|              1991|               1992|               1993|               1994|              1995|               1996|              1997|              1998|             1999|               2000|               2001|               2002|              2003|               2004|               2005|              2006|               2007|               2008|               2009|               2010|               2011|              2012|               2013|              2014|               2015|              2016|               2017|               2018|\n",
      "+-------+-----------------+-----------+-------------------+------------------+-------------------+-------------------+-------------------+------------------+-------------------+------------------+------------------+-----------------+-------------------+-------------------+-------------------+------------------+-------------------+-------------------+------------------+-------------------+-------------------+-------------------+-------------------+-------------------+------------------+-------------------+------------------+-------------------+------------------+-------------------+-------------------+\n",
      "|  count|              189|        189|                189|               189|                189|                189|                189|               189|                189|               189|               189|              189|                189|                189|                189|               189|                189|                189|               189|                189|                189|                189|                189|                189|               189|                189|               189|                189|               189|                189|                189|\n",
      "|   mean|94.77248677248677|       null| 0.5949513888888888|0.5971597222222224| 0.5969790209790211| 0.6028611111111108| 0.6065277777777774|0.6103445945945944|  0.615858108108108|0.6191700680272109|0.6262432432432437|0.626814569536424|   0.62732183908046| 0.6329540229885059| 0.6388800000000002| 0.643994350282486| 0.6505307262569835| 0.6540537634408602|0.6611290322580645| 0.6681075268817206| 0.6741612903225808|              0.678|  0.681712765957447| 0.6874202127659573|0.6922659574468086|  0.697127659574468|0.7013989361702128| 0.7053510638297874| 0.708489361702128| 0.7112222222222223| 0.7134708994708996|\n",
      "| stddev|54.74045223905498|       null|0.16559426064600388|0.1659663654186352|0.16557515924678484|0.16770526973848346|0.17017526729998575|0.1689925616379318|0.16869249123917165|0.1681109945696617|0.1693128015950585| 0.17098102834227|0.16947293297641114|0.16910990427413294|0.16791377918854467|0.1680289645342278|0.16595157309405328|0.16487937379999615| 0.163487910177461|0.16223995991027756|0.16067884977099967|0.15777250128638434|0.15668153758878414|0.15506161968527132|0.1538444367098304|0.15355305195799956|0.1526419928026906|0.15229314593351687|0.1521042243771921|0.15121385917194813|0.15079461673378391|\n",
      "|    min|                1|Afghanistan|                 ..|                ..|                 ..|                 ..|                 ..|                ..|                 ..|                ..|                ..|               ..|                 ..|                 ..|                 ..|                ..|                 ..|                 ..|                ..|                 ..|                 ..|                 ..|                 ..|                 ..|                ..|                 ..|                ..|                 ..|                ..|              0.373|              0.377|\n",
      "|    max|              189|   Zimbabwe|              0.866|             0.867|              0.868|              0.872|              0.885|             0.883|              0.888|             0.894|             0.906|            0.911|              0.917|              0.916|              0.918|             0.924|              0.934|              0.932|             0.936|              0.938|              0.938|              0.938|              0.942|              0.943|             0.942|              0.946|             0.945|              0.948|             0.951|              0.953|              0.954|\n",
      "+-------+-----------------+-----------+-------------------+------------------+-------------------+-------------------+-------------------+------------------+-------------------+------------------+------------------+-----------------+-------------------+-------------------+-------------------+------------------+-------------------+-------------------+------------------+-------------------+-------------------+-------------------+-------------------+-------------------+------------------+-------------------+------------------+-------------------+------------------+-------------------+-------------------+\n",
      "\n",
      "root\n",
      " |-- HDI Rank: integer (nullable = true)\n",
      " |-- Country: string (nullable = true)\n",
      " |-- 1990: string (nullable = true)\n",
      " |-- 1991: string (nullable = true)\n",
      " |-- 1992: string (nullable = true)\n",
      " |-- 1993: string (nullable = true)\n",
      " |-- 1994: string (nullable = true)\n",
      " |-- 1995: string (nullable = true)\n",
      " |-- 1996: string (nullable = true)\n",
      " |-- 1997: string (nullable = true)\n",
      " |-- 1998: string (nullable = true)\n",
      " |-- 1999: string (nullable = true)\n",
      " |-- 2000: string (nullable = true)\n",
      " |-- 2001: string (nullable = true)\n",
      " |-- 2002: string (nullable = true)\n",
      " |-- 2003: string (nullable = true)\n",
      " |-- 2004: string (nullable = true)\n",
      " |-- 2005: string (nullable = true)\n",
      " |-- 2006: string (nullable = true)\n",
      " |-- 2007: string (nullable = true)\n",
      " |-- 2008: string (nullable = true)\n",
      " |-- 2009: string (nullable = true)\n",
      " |-- 2010: string (nullable = true)\n",
      " |-- 2011: string (nullable = true)\n",
      " |-- 2012: string (nullable = true)\n",
      " |-- 2013: string (nullable = true)\n",
      " |-- 2014: string (nullable = true)\n",
      " |-- 2015: string (nullable = true)\n",
      " |-- 2016: string (nullable = true)\n",
      " |-- 2017: double (nullable = true)\n",
      " |-- 2018: double (nullable = true)\n",
      "\n"
     ]
    }
   ],
   "source": [
    "#Explore HDI stats\n",
    "HDIStats.show() # visualise DataFrames.\n",
    "HDIStats.columns #display columns\n",
    "HDIStats.describe().show() #general statistics\n",
    "HDIStats.printSchema() #data types"
   ]
  },
  {
   "cell_type": "code",
   "execution_count": 13,
   "metadata": {},
   "outputs": [
    {
     "name": "stdout",
     "output_type": "stream",
     "text": [
      "+------------+----+------------------------------+-------------+--------------+----------+\n",
      "|Country Name|Year|Employment to population ratio|          GDP|GDP per capita|Gini index|\n",
      "+------------+----+------------------------------+-------------+--------------+----------+\n",
      "| Afghanistan|1985|                          null|         null|          null|      null|\n",
      "| Afghanistan|1986|                          null|         null|          null|      null|\n",
      "| Afghanistan|1987|                          null|         null|          null|      null|\n",
      "| Afghanistan|1988|                          null|         null|          null|      null|\n",
      "| Afghanistan|1989|                          null|         null|          null|      null|\n",
      "| Afghanistan|1990|                          null|         null|          null|      null|\n",
      "| Afghanistan|1991|                   42.31900024|         null|          null|      null|\n",
      "| Afghanistan|1992|                   42.39699936|         null|          null|      null|\n",
      "| Afghanistan|1993|                   42.38800049|         null|          null|      null|\n",
      "| Afghanistan|1994|                   42.38000107|         null|          null|      null|\n",
      "| Afghanistan|1995|                   42.34500122|         null|          null|      null|\n",
      "| Afghanistan|1996|                   42.23699951|         null|          null|      null|\n",
      "| Afghanistan|1997|                   42.13800049|         null|          null|      null|\n",
      "| Afghanistan|1998|                   42.05199814|         null|          null|      null|\n",
      "| Afghanistan|1999|                   41.96699905|         null|          null|      null|\n",
      "| Afghanistan|2000|                   41.97399902|         null|          null|      null|\n",
      "| Afghanistan|2001|                   42.13700104|         null|          null|      null|\n",
      "| Afghanistan|2002|                   42.30400085|7.465114629E9|   330.3035529|      null|\n",
      "| Afghanistan|2003|                   42.51499939|8.124454292E9|   343.0808897|      null|\n",
      "| Afghanistan|2004|                   42.74200058|8.239343661E9|   333.2166845|      null|\n",
      "+------------+----+------------------------------+-------------+--------------+----------+\n",
      "only showing top 20 rows\n",
      "\n",
      "+-------+------------+-----------------+------------------------------+--------------------+------------------+-----------------+\n",
      "|summary|Country Name|             Year|Employment to population ratio|                 GDP|    GDP per capita|       Gini index|\n",
      "+-------+------------+-----------------+------------------------------+--------------------+------------------+-----------------+\n",
      "|  count|        6944|             6944|                          4862|                5979|              5976|             1550|\n",
      "|   mean|        null|           2000.5|              57.6225362242226|2.745890309848958...| 13124.04119241654|38.62148387096775|\n",
      "| stddev|        null|9.233757553344075|            11.968146617150545|1.111967617317697E12|20099.670239668914|9.432100956926329|\n",
      "|    min| Afghanistan|             1985|                   26.32999992|       2.144196696E7|       164.1918663|             20.2|\n",
      "|    max|    Zimbabwe|             2016|                    90.4469986|          1.69723E13|       194368.4055|             65.8|\n",
      "+-------+------------+-----------------+------------------------------+--------------------+------------------+-----------------+\n",
      "\n",
      "root\n",
      " |-- Country Name: string (nullable = true)\n",
      " |-- Year: integer (nullable = true)\n",
      " |-- Employment to population ratio: double (nullable = true)\n",
      " |-- GDP: double (nullable = true)\n",
      " |-- GDP per capita: double (nullable = true)\n",
      " |-- Gini index: double (nullable = true)\n",
      "\n"
     ]
    }
   ],
   "source": [
    "#Explore WDI Stats\n",
    "WDIStats.show() # visualise DataFrames.\n",
    "WDIStats.columns #display columns\n",
    "WDIStats.describe().show() #general statistics\n",
    "WDIStats.printSchema() #data types"
   ]
  },
  {
   "cell_type": "code",
   "execution_count": 48,
   "metadata": {},
   "outputs": [
    {
     "name": "stdout",
     "output_type": "stream",
     "text": [
      "+-------+----+---+---+-----------+----------+\n",
      "|country|year|sex|age|suicides_no|population|\n",
      "+-------+----+---+---+-----------+----------+\n",
      "|    0.0| 0.0|0.0|0.0|     2256.0|    5460.0|\n",
      "+-------+----+---+---+-----------+----------+\n",
      "\n"
     ]
    }
   ],
   "source": [
    "#todo: explore values"
   ]
  },
  {
   "cell_type": "code",
   "execution_count": null,
   "metadata": {},
   "outputs": [],
   "source": [
    "#todo: explore missing values\n",
    "from pyspark.sql.functions import lit\n",
    "from pyspark.sql.functions import *\n",
    "\n",
    "#count missing values in each column\n",
    "rows = SuicideStats.count()\n",
    "summary = SuicideStats.describe().filter(col(\"summary\")  == \"count\")\n",
    "summary.select(*((lit(rows)-col(c)).alias(c) for c in SuicideStats.columns)).show()\n",
    "\n"
   ]
  },
  {
   "cell_type": "code",
   "execution_count": 49,
   "metadata": {},
   "outputs": [
    {
     "name": "stdout",
     "output_type": "stream",
     "text": [
      "+--------+-------+----+----+----+----+----+----+----+----+----+----+----+----+----+----+----+----+----+----+----+----+----+----+----+----+----+----+----+----+----+\n",
      "|HDI Rank|Country|1990|1991|1992|1993|1994|1995|1996|1997|1998|1999|2000|2001|2002|2003|2004|2005|2006|2007|2008|2009|2010|2011|2012|2013|2014|2015|2016|2017|2018|\n",
      "+--------+-------+----+----+----+----+----+----+----+----+----+----+----+----+----+----+----+----+----+----+----+----+----+----+----+----+----+----+----+----+----+\n",
      "|     0.0|    0.0| 0.0| 0.0| 0.0| 0.0| 0.0| 0.0| 0.0| 0.0| 0.0| 0.0| 0.0| 0.0| 0.0| 0.0| 0.0| 0.0| 0.0| 0.0| 0.0| 0.0| 0.0| 0.0| 0.0| 0.0| 0.0| 0.0| 0.0| 0.0| 0.0|\n",
      "+--------+-------+----+----+----+----+----+----+----+----+----+----+----+----+----+----+----+----+----+----+----+----+----+----+----+----+----+----+----+----+----+\n",
      "\n"
     ]
    }
   ],
   "source": [
    "rows = HDIStats.count()\n",
    "summary = HDIStats.describe().filter(col(\"summary\")  == \"count\")\n",
    "summary.select(*((lit(rows)-col(c)).alias(c) for c in HDIStats.columns)).show()"
   ]
  },
  {
   "cell_type": "code",
   "execution_count": 52,
   "metadata": {},
   "outputs": [
    {
     "name": "stdout",
     "output_type": "stream",
     "text": [
      "+------------+----+------------------------------+-----+--------------+----------+\n",
      "|Country Name|Year|Employment to population ratio|  GDP|GDP per capita|Gini index|\n",
      "+------------+----+------------------------------+-----+--------------+----------+\n",
      "|         0.0| 0.0|                        2082.0|965.0|         968.0|    5394.0|\n",
      "+------------+----+------------------------------+-----+--------------+----------+\n",
      "\n"
     ]
    }
   ],
   "source": [
    "rows = WDIStats.count()\n",
    "summary = WDIStats.describe().filter(col(\"summary\")  == \"count\")\n",
    "summary.select(*((lit(rows)-col(c)).alias(c) for c in WDIStats.columns)).show()"
   ]
  },
  {
   "cell_type": "code",
   "execution_count": 58,
   "metadata": {},
   "outputs": [
    {
     "ename": "IndentationError",
     "evalue": "unexpected indent (<ipython-input-58-7e9f54848049>, line 12)",
     "output_type": "error",
     "traceback": [
      "\u001b[0;36m  File \u001b[0;32m\"<ipython-input-58-7e9f54848049>\"\u001b[0;36m, line \u001b[0;32m12\u001b[0m\n\u001b[0;31m    for c in bounds:\u001b[0m\n\u001b[0m    ^\u001b[0m\n\u001b[0;31mIndentationError\u001b[0m\u001b[0;31m:\u001b[0m unexpected indent\n"
     ]
    }
   ],
   "source": [
    "#todo: explore outliers and extremes\n",
    "import pyspark.sql.functions as f\n",
    "\n",
    "def calculate_bounds(df):\n",
    "  bounds = {\n",
    "        c: dict(\n",
    "            zip([\"q1\", \"q3\"], df.approxQuantile(c, [0.25, 0.75], 0))\n",
    "        )\n",
    "        for c,d in zip(df.columns, df.dtypes) if d[1] == \"int\"\n",
    "    }\n",
    "    for c in bounds:\n",
    "        iqr = bounds[c]['q3'] - bounds[c]['q1']\n",
    "        bounds[c]['min'] = bounds[c]['q1'] - (iqr * 1.5)\n",
    "        bounds[c]['max'] = bounds[c]['q3'] + (iqr * 1.5)\n",
    "\n",
    "    return bounds\n",
    "\n",
    "\n",
    "def flag_outliers(df, id_col):\n",
    "  bounds = calculate_bounds(df)\n",
    "  outliers = {}\n",
    "\n",
    "  return df.select(c, id_col,\n",
    "        *[\n",
    "            f.when(\n",
    "                ~f.col(c).between(bounds[c]['min'], bounds[c]['max']),\n",
    "                \"yes\"\n",
    "            ).otherwise(\"no\").alias(c+'_outlier')\n",
    "        ]\n",
    "    )\n",
    "\n",
    "flag_outliers(SuicideStats, 1)"
   ]
  },
  {
   "cell_type": "code",
   "execution_count": null,
   "metadata": {},
   "outputs": [],
   "source": [
    "#todo: explore data pattern"
   ]
  },
  {
   "cell_type": "code",
   "execution_count": 14,
   "metadata": {},
   "outputs": [
    {
     "name": "stdout",
     "output_type": "stream",
     "text": [
      "+-----------+\n",
      "|        age|\n",
      "+-----------+\n",
      "|15-24 years|\n",
      "|25-34 years|\n",
      "|35-54 years|\n",
      "| 5-14 years|\n",
      "|55-74 years|\n",
      "|  75+ years|\n",
      "|15-24 years|\n",
      "|25-34 years|\n",
      "|35-54 years|\n",
      "| 5-14 years|\n",
      "|55-74 years|\n",
      "|  75+ years|\n",
      "|15-24 years|\n",
      "|25-34 years|\n",
      "|35-54 years|\n",
      "| 5-14 years|\n",
      "|55-74 years|\n",
      "|  75+ years|\n",
      "|15-24 years|\n",
      "|25-34 years|\n",
      "+-----------+\n",
      "only showing top 20 rows\n",
      "\n"
     ]
    }
   ],
   "source": [
    "#Data Manipulation\n",
    "from pyspark.sql.types import (StructField,StringType,IntegerType,StructType)\n",
    "\n",
    "#Selecting Items\n",
    "#select records with populartion greater than 0\n",
    "SuicideStats.createOrReplaceTempView('suicideStats')\n",
    "SuicideStats = spark.sql(\"SELECT age FROM suicideStats WHERE population >= 0\")\n",
    "SuicideStats.show()"
   ]
  },
  {
   "cell_type": "code",
   "execution_count": 9,
   "metadata": {},
   "outputs": [
    {
     "data": {
      "text/plain": [
       "['Country',\n",
       " '1990',\n",
       " '1991',\n",
       " '1992',\n",
       " '1993',\n",
       " '1994',\n",
       " '1995',\n",
       " '1996',\n",
       " '1997',\n",
       " '1998',\n",
       " '1999',\n",
       " '2000',\n",
       " '2001',\n",
       " '2002',\n",
       " '2003',\n",
       " '2004',\n",
       " '2005',\n",
       " '2006',\n",
       " '2007',\n",
       " '2008',\n",
       " '2009',\n",
       " '2010',\n",
       " '2011',\n",
       " '2012',\n",
       " '2013',\n",
       " '2014',\n",
       " '2015',\n",
       " '2016',\n",
       " '2017',\n",
       " '2018']"
      ]
     },
     "execution_count": 9,
     "metadata": {},
     "output_type": "execute_result"
    }
   ],
   "source": [
    "#remove HDI Rank from HDIStats\n",
    "HDIStats.drop(\"HDI Rank\").columns"
   ]
  },
  {
   "cell_type": "code",
   "execution_count": 15,
   "metadata": {},
   "outputs": [
    {
     "ename": "AnalysisException",
     "evalue": "'Cannot resolve column name \"suicides_no\" among (age);'",
     "output_type": "error",
     "traceback": [
      "\u001b[0;31m---------------------------------------------------------------------------\u001b[0m",
      "\u001b[0;31mPy4JJavaError\u001b[0m                             Traceback (most recent call last)",
      "\u001b[0;32m~/spark-2.1.1-bin-hadoop2.7/python/pyspark/sql/utils.py\u001b[0m in \u001b[0;36mdeco\u001b[0;34m(*a, **kw)\u001b[0m\n\u001b[1;32m     62\u001b[0m         \u001b[0;32mtry\u001b[0m\u001b[0;34m:\u001b[0m\u001b[0;34m\u001b[0m\u001b[0m\n\u001b[0;32m---> 63\u001b[0;31m             \u001b[0;32mreturn\u001b[0m \u001b[0mf\u001b[0m\u001b[0;34m(\u001b[0m\u001b[0;34m*\u001b[0m\u001b[0ma\u001b[0m\u001b[0;34m,\u001b[0m \u001b[0;34m**\u001b[0m\u001b[0mkw\u001b[0m\u001b[0;34m)\u001b[0m\u001b[0;34m\u001b[0m\u001b[0m\n\u001b[0m\u001b[1;32m     64\u001b[0m         \u001b[0;32mexcept\u001b[0m \u001b[0mpy4j\u001b[0m\u001b[0;34m.\u001b[0m\u001b[0mprotocol\u001b[0m\u001b[0;34m.\u001b[0m\u001b[0mPy4JJavaError\u001b[0m \u001b[0;32mas\u001b[0m \u001b[0me\u001b[0m\u001b[0;34m:\u001b[0m\u001b[0;34m\u001b[0m\u001b[0m\n",
      "\u001b[0;32m~/spark-2.1.1-bin-hadoop2.7/python/lib/py4j-0.10.4-src.zip/py4j/protocol.py\u001b[0m in \u001b[0;36mget_return_value\u001b[0;34m(answer, gateway_client, target_id, name)\u001b[0m\n\u001b[1;32m    318\u001b[0m                     \u001b[0;34m\"An error occurred while calling {0}{1}{2}.\\n\"\u001b[0m\u001b[0;34m.\u001b[0m\u001b[0;34m\u001b[0m\u001b[0m\n\u001b[0;32m--> 319\u001b[0;31m                     format(target_id, \".\", name), value)\n\u001b[0m\u001b[1;32m    320\u001b[0m             \u001b[0;32melse\u001b[0m\u001b[0;34m:\u001b[0m\u001b[0;34m\u001b[0m\u001b[0m\n",
      "\u001b[0;31mPy4JJavaError\u001b[0m: An error occurred while calling o83.drop.\n: org.apache.spark.sql.AnalysisException: Cannot resolve column name \"suicides_no\" among (age);\n\tat org.apache.spark.sql.Dataset$$anonfun$resolve$1.apply(Dataset.scala:219)\n\tat org.apache.spark.sql.Dataset$$anonfun$resolve$1.apply(Dataset.scala:219)\n\tat scala.Option.getOrElse(Option.scala:121)\n\tat org.apache.spark.sql.Dataset.resolve(Dataset.scala:218)\n\tat org.apache.spark.sql.DataFrameNaFunctions$$anonfun$1.apply(DataFrameNaFunctions.scala:124)\n\tat org.apache.spark.sql.DataFrameNaFunctions$$anonfun$1.apply(DataFrameNaFunctions.scala:124)\n\tat scala.collection.TraversableLike$$anonfun$map$1.apply(TraversableLike.scala:234)\n\tat scala.collection.TraversableLike$$anonfun$map$1.apply(TraversableLike.scala:234)\n\tat scala.collection.Iterator$class.foreach(Iterator.scala:893)\n\tat scala.collection.AbstractIterator.foreach(Iterator.scala:1336)\n\tat scala.collection.IterableLike$class.foreach(IterableLike.scala:72)\n\tat scala.collection.AbstractIterable.foreach(Iterable.scala:54)\n\tat scala.collection.TraversableLike$class.map(TraversableLike.scala:234)\n\tat scala.collection.AbstractTraversable.map(Traversable.scala:104)\n\tat org.apache.spark.sql.DataFrameNaFunctions.drop(DataFrameNaFunctions.scala:124)\n\tat sun.reflect.NativeMethodAccessorImpl.invoke0(Native Method)\n\tat sun.reflect.NativeMethodAccessorImpl.invoke(NativeMethodAccessorImpl.java:62)\n\tat sun.reflect.DelegatingMethodAccessorImpl.invoke(DelegatingMethodAccessorImpl.java:43)\n\tat java.lang.reflect.Method.invoke(Method.java:498)\n\tat py4j.reflection.MethodInvoker.invoke(MethodInvoker.java:244)\n\tat py4j.reflection.ReflectionEngine.invoke(ReflectionEngine.java:357)\n\tat py4j.Gateway.invoke(Gateway.java:280)\n\tat py4j.commands.AbstractCommand.invokeMethod(AbstractCommand.java:132)\n\tat py4j.commands.CallCommand.execute(CallCommand.java:79)\n\tat py4j.GatewayConnection.run(GatewayConnection.java:214)\n\tat java.lang.Thread.run(Thread.java:748)\n",
      "\nDuring handling of the above exception, another exception occurred:\n",
      "\u001b[0;31mAnalysisException\u001b[0m                         Traceback (most recent call last)",
      "\u001b[0;32m<ipython-input-15-8a4dff3ac98d>\u001b[0m in \u001b[0;36m<module>\u001b[0;34m()\u001b[0m\n\u001b[1;32m      1\u001b[0m \u001b[0;31m#Data cleaning\u001b[0m\u001b[0;34m\u001b[0m\u001b[0;34m\u001b[0m\u001b[0m\n\u001b[1;32m      2\u001b[0m \u001b[0;31m#remove misssing values from WHO Suicide Statistics\u001b[0m\u001b[0;34m\u001b[0m\u001b[0;34m\u001b[0m\u001b[0m\n\u001b[0;32m----> 3\u001b[0;31m \u001b[0mSuicideStats\u001b[0m \u001b[0;34m=\u001b[0m \u001b[0mSuicideStats\u001b[0m\u001b[0;34m.\u001b[0m\u001b[0mna\u001b[0m\u001b[0;34m.\u001b[0m\u001b[0mdrop\u001b[0m\u001b[0;34m(\u001b[0m\u001b[0msubset\u001b[0m\u001b[0;34m=\u001b[0m\u001b[0;34m\"suicides_no\"\u001b[0m\u001b[0;34m)\u001b[0m\u001b[0;34m\u001b[0m\u001b[0m\n\u001b[0m\u001b[1;32m      4\u001b[0m \u001b[0mSuicideStats\u001b[0m\u001b[0;34m.\u001b[0m\u001b[0mshow\u001b[0m\u001b[0;34m(\u001b[0m\u001b[0;34m)\u001b[0m\u001b[0;34m\u001b[0m\u001b[0m\n",
      "\u001b[0;32m~/spark-2.1.1-bin-hadoop2.7/python/pyspark/sql/dataframe.py\u001b[0m in \u001b[0;36mdrop\u001b[0;34m(self, how, thresh, subset)\u001b[0m\n\u001b[1;32m   1622\u001b[0m \u001b[0;34m\u001b[0m\u001b[0m\n\u001b[1;32m   1623\u001b[0m     \u001b[0;32mdef\u001b[0m \u001b[0mdrop\u001b[0m\u001b[0;34m(\u001b[0m\u001b[0mself\u001b[0m\u001b[0;34m,\u001b[0m \u001b[0mhow\u001b[0m\u001b[0;34m=\u001b[0m\u001b[0;34m'any'\u001b[0m\u001b[0;34m,\u001b[0m \u001b[0mthresh\u001b[0m\u001b[0;34m=\u001b[0m\u001b[0;32mNone\u001b[0m\u001b[0;34m,\u001b[0m \u001b[0msubset\u001b[0m\u001b[0;34m=\u001b[0m\u001b[0;32mNone\u001b[0m\u001b[0;34m)\u001b[0m\u001b[0;34m:\u001b[0m\u001b[0;34m\u001b[0m\u001b[0m\n\u001b[0;32m-> 1624\u001b[0;31m         \u001b[0;32mreturn\u001b[0m \u001b[0mself\u001b[0m\u001b[0;34m.\u001b[0m\u001b[0mdf\u001b[0m\u001b[0;34m.\u001b[0m\u001b[0mdropna\u001b[0m\u001b[0;34m(\u001b[0m\u001b[0mhow\u001b[0m\u001b[0;34m=\u001b[0m\u001b[0mhow\u001b[0m\u001b[0;34m,\u001b[0m \u001b[0mthresh\u001b[0m\u001b[0;34m=\u001b[0m\u001b[0mthresh\u001b[0m\u001b[0;34m,\u001b[0m \u001b[0msubset\u001b[0m\u001b[0;34m=\u001b[0m\u001b[0msubset\u001b[0m\u001b[0;34m)\u001b[0m\u001b[0;34m\u001b[0m\u001b[0m\n\u001b[0m\u001b[1;32m   1625\u001b[0m \u001b[0;34m\u001b[0m\u001b[0m\n\u001b[1;32m   1626\u001b[0m     \u001b[0mdrop\u001b[0m\u001b[0;34m.\u001b[0m\u001b[0m__doc__\u001b[0m \u001b[0;34m=\u001b[0m \u001b[0mDataFrame\u001b[0m\u001b[0;34m.\u001b[0m\u001b[0mdropna\u001b[0m\u001b[0;34m.\u001b[0m\u001b[0m__doc__\u001b[0m\u001b[0;34m\u001b[0m\u001b[0m\n",
      "\u001b[0;32m~/spark-2.1.1-bin-hadoop2.7/python/pyspark/sql/dataframe.py\u001b[0m in \u001b[0;36mdropna\u001b[0;34m(self, how, thresh, subset)\u001b[0m\n\u001b[1;32m   1221\u001b[0m             \u001b[0mthresh\u001b[0m \u001b[0;34m=\u001b[0m \u001b[0mlen\u001b[0m\u001b[0;34m(\u001b[0m\u001b[0msubset\u001b[0m\u001b[0;34m)\u001b[0m \u001b[0;32mif\u001b[0m \u001b[0mhow\u001b[0m \u001b[0;34m==\u001b[0m \u001b[0;34m'any'\u001b[0m \u001b[0;32melse\u001b[0m \u001b[0;36m1\u001b[0m\u001b[0;34m\u001b[0m\u001b[0m\n\u001b[1;32m   1222\u001b[0m \u001b[0;34m\u001b[0m\u001b[0m\n\u001b[0;32m-> 1223\u001b[0;31m         \u001b[0;32mreturn\u001b[0m \u001b[0mDataFrame\u001b[0m\u001b[0;34m(\u001b[0m\u001b[0mself\u001b[0m\u001b[0;34m.\u001b[0m\u001b[0m_jdf\u001b[0m\u001b[0;34m.\u001b[0m\u001b[0mna\u001b[0m\u001b[0;34m(\u001b[0m\u001b[0;34m)\u001b[0m\u001b[0;34m.\u001b[0m\u001b[0mdrop\u001b[0m\u001b[0;34m(\u001b[0m\u001b[0mthresh\u001b[0m\u001b[0;34m,\u001b[0m \u001b[0mself\u001b[0m\u001b[0;34m.\u001b[0m\u001b[0m_jseq\u001b[0m\u001b[0;34m(\u001b[0m\u001b[0msubset\u001b[0m\u001b[0;34m)\u001b[0m\u001b[0;34m)\u001b[0m\u001b[0;34m,\u001b[0m \u001b[0mself\u001b[0m\u001b[0;34m.\u001b[0m\u001b[0msql_ctx\u001b[0m\u001b[0;34m)\u001b[0m\u001b[0;34m\u001b[0m\u001b[0m\n\u001b[0m\u001b[1;32m   1224\u001b[0m \u001b[0;34m\u001b[0m\u001b[0m\n\u001b[1;32m   1225\u001b[0m     \u001b[0;34m@\u001b[0m\u001b[0msince\u001b[0m\u001b[0;34m(\u001b[0m\u001b[0;34m\"1.3.1\"\u001b[0m\u001b[0;34m)\u001b[0m\u001b[0;34m\u001b[0m\u001b[0m\n",
      "\u001b[0;32m~/spark-2.1.1-bin-hadoop2.7/python/lib/py4j-0.10.4-src.zip/py4j/java_gateway.py\u001b[0m in \u001b[0;36m__call__\u001b[0;34m(self, *args)\u001b[0m\n\u001b[1;32m   1131\u001b[0m         \u001b[0manswer\u001b[0m \u001b[0;34m=\u001b[0m \u001b[0mself\u001b[0m\u001b[0;34m.\u001b[0m\u001b[0mgateway_client\u001b[0m\u001b[0;34m.\u001b[0m\u001b[0msend_command\u001b[0m\u001b[0;34m(\u001b[0m\u001b[0mcommand\u001b[0m\u001b[0;34m)\u001b[0m\u001b[0;34m\u001b[0m\u001b[0m\n\u001b[1;32m   1132\u001b[0m         return_value = get_return_value(\n\u001b[0;32m-> 1133\u001b[0;31m             answer, self.gateway_client, self.target_id, self.name)\n\u001b[0m\u001b[1;32m   1134\u001b[0m \u001b[0;34m\u001b[0m\u001b[0m\n\u001b[1;32m   1135\u001b[0m         \u001b[0;32mfor\u001b[0m \u001b[0mtemp_arg\u001b[0m \u001b[0;32min\u001b[0m \u001b[0mtemp_args\u001b[0m\u001b[0;34m:\u001b[0m\u001b[0;34m\u001b[0m\u001b[0m\n",
      "\u001b[0;32m~/spark-2.1.1-bin-hadoop2.7/python/pyspark/sql/utils.py\u001b[0m in \u001b[0;36mdeco\u001b[0;34m(*a, **kw)\u001b[0m\n\u001b[1;32m     67\u001b[0m                                              e.java_exception.getStackTrace()))\n\u001b[1;32m     68\u001b[0m             \u001b[0;32mif\u001b[0m \u001b[0ms\u001b[0m\u001b[0;34m.\u001b[0m\u001b[0mstartswith\u001b[0m\u001b[0;34m(\u001b[0m\u001b[0;34m'org.apache.spark.sql.AnalysisException: '\u001b[0m\u001b[0;34m)\u001b[0m\u001b[0;34m:\u001b[0m\u001b[0;34m\u001b[0m\u001b[0m\n\u001b[0;32m---> 69\u001b[0;31m                 \u001b[0;32mraise\u001b[0m \u001b[0mAnalysisException\u001b[0m\u001b[0;34m(\u001b[0m\u001b[0ms\u001b[0m\u001b[0;34m.\u001b[0m\u001b[0msplit\u001b[0m\u001b[0;34m(\u001b[0m\u001b[0;34m': '\u001b[0m\u001b[0;34m,\u001b[0m \u001b[0;36m1\u001b[0m\u001b[0;34m)\u001b[0m\u001b[0;34m[\u001b[0m\u001b[0;36m1\u001b[0m\u001b[0;34m]\u001b[0m\u001b[0;34m,\u001b[0m \u001b[0mstackTrace\u001b[0m\u001b[0;34m)\u001b[0m\u001b[0;34m\u001b[0m\u001b[0m\n\u001b[0m\u001b[1;32m     70\u001b[0m             \u001b[0;32mif\u001b[0m \u001b[0ms\u001b[0m\u001b[0;34m.\u001b[0m\u001b[0mstartswith\u001b[0m\u001b[0;34m(\u001b[0m\u001b[0;34m'org.apache.spark.sql.catalyst.analysis'\u001b[0m\u001b[0;34m)\u001b[0m\u001b[0;34m:\u001b[0m\u001b[0;34m\u001b[0m\u001b[0m\n\u001b[1;32m     71\u001b[0m                 \u001b[0;32mraise\u001b[0m \u001b[0mAnalysisException\u001b[0m\u001b[0;34m(\u001b[0m\u001b[0ms\u001b[0m\u001b[0;34m.\u001b[0m\u001b[0msplit\u001b[0m\u001b[0;34m(\u001b[0m\u001b[0;34m': '\u001b[0m\u001b[0;34m,\u001b[0m \u001b[0;36m1\u001b[0m\u001b[0;34m)\u001b[0m\u001b[0;34m[\u001b[0m\u001b[0;36m1\u001b[0m\u001b[0;34m]\u001b[0m\u001b[0;34m,\u001b[0m \u001b[0mstackTrace\u001b[0m\u001b[0;34m)\u001b[0m\u001b[0;34m\u001b[0m\u001b[0m\n",
      "\u001b[0;31mAnalysisException\u001b[0m: 'Cannot resolve column name \"suicides_no\" among (age);'"
     ]
    }
   ],
   "source": [
    "#Data cleaning\n",
    "#remove misssing values from WHO Suicide Statistics\n",
    "SuicideStats = SuicideStats.na.drop(subset=\"suicides_no\")\n",
    "SuicideStats.show()"
   ]
  },
  {
   "cell_type": "code",
   "execution_count": null,
   "metadata": {},
   "outputs": [],
   "source": [
    "#cleaning HDIStats\n",
    "#replace missing value with the mean value of this country\n",
    "from pyspark.sql.functions import mean\n"
   ]
  },
  {
   "cell_type": "code",
   "execution_count": null,
   "metadata": {},
   "outputs": [],
   "source": [
    "#cleanig WDIStats\n",
    "#replace missing value with the mean value of this country\n",
    "mean_sales = HDIStats.select(mean(df['Sales'])).collect()\n",
    "mean_sales\n",
    "\n",
    "#remove misssing values from World Development Indicators\n",
    "\n",
    "#Discard outliers and extremes"
   ]
  },
  {
   "cell_type": "code",
   "execution_count": null,
   "metadata": {},
   "outputs": [],
   "source": [
    "#Construct the Data\n",
    "#add new feature suicidePer100k to SuicideStats\n"
   ]
  },
  {
   "cell_type": "code",
   "execution_count": null,
   "metadata": {},
   "outputs": [],
   "source": [
    "#transport HDI score "
   ]
  },
  {
   "cell_type": "code",
   "execution_count": null,
   "metadata": {},
   "outputs": [],
   "source": [
    "#Integrate Data Sources"
   ]
  },
  {
   "cell_type": "code",
   "execution_count": null,
   "metadata": {},
   "outputs": [],
   "source": [
    "#Format the data\n",
    "df = df.withColumn(\"longitude\", df[\"longitude\"].cast(FloatType())) \\"
   ]
  },
  {
   "cell_type": "code",
   "execution_count": null,
   "metadata": {},
   "outputs": [],
   "source": [
    "#Reduce the data"
   ]
  },
  {
   "cell_type": "code",
   "execution_count": null,
   "metadata": {},
   "outputs": [],
   "source": [
    "#Project the data"
   ]
  }
 ],
 "metadata": {
  "kernelspec": {
   "display_name": "Python 3",
   "language": "python",
   "name": "python3"
  },
  "language_info": {
   "codemirror_mode": {
    "name": "ipython",
    "version": 3
   },
   "file_extension": ".py",
   "mimetype": "text/x-python",
   "name": "python",
   "nbconvert_exporter": "python",
   "pygments_lexer": "ipython3",
   "version": "3.5.2"
  }
 },
 "nbformat": 4,
 "nbformat_minor": 2
}
