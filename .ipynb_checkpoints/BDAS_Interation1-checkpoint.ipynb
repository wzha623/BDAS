{
 "cells": [
  {
   "cell_type": "code",
   "execution_count": 1,
   "metadata": {},
   "outputs": [],
   "source": [
    "import findspark\n",
    "findspark.init('/home/ubuntu/spark-2.1.1-bin-hadoop2.7')\n",
    "import pyspark\n",
    "from pyspark.sql import SparkSession\n",
    "spark = SparkSession.builder.appName('basics').getOrCreate()"
   ]
  },
  {
   "cell_type": "code",
   "execution_count": 2,
   "metadata": {},
   "outputs": [],
   "source": [
    "from pyspark.sql.functions import when, count, col, log, avg, array, explode, struct, lit\n",
    "from pyspark.sql.types import StructField,StringType,IntegerType,StructType\n",
    "\n",
    "from pyspark.ml.feature import StringIndexer, VectorAssembler, VectorIndexer,Normalizer\n",
    "from pyspark.ml.regression import GBTRegressor\n",
    "from pyspark.ml import Pipeline\n",
    "from pyspark.ml.evaluation import RegressionEvaluator\n",
    "from pyspark.ml.tuning import CrossValidator, ParamGridBuilder\n",
    "\n",
    "import numpy as np\n",
    "import pandas as pd\n",
    "import matplotlib.pyplot as plt"
   ]
  },
  {
   "cell_type": "markdown",
   "metadata": {},
   "source": [
    "# Data Understanding"
   ]
  },
  {
   "cell_type": "markdown",
   "metadata": {},
   "source": [
    "## Collect the Data"
   ]
  },
  {
   "cell_type": "code",
   "execution_count": 3,
   "metadata": {},
   "outputs": [],
   "source": [
    "# Use Spark to read csv file\n",
    "SuicideStats = spark.read.csv(\"data/who_suicide_statistics.csv\",inferSchema=True,header=True)\n",
    "\n",
    "HDIStats = spark.read.csv(\"data/Human Development Index.csv\",inferSchema=True,header=True)\n",
    "\n",
    "WDIStats = spark.read.csv(\"data/World_Development_Indicators.csv\",inferSchema=True,header=True)"
   ]
  },
  {
   "cell_type": "markdown",
   "metadata": {},
   "source": [
    "## Describe the Data"
   ]
  },
  {
   "cell_type": "code",
   "execution_count": 4,
   "metadata": {},
   "outputs": [
    {
     "name": "stdout",
     "output_type": "stream",
     "text": [
      "(43776, 6)\n"
     ]
    }
   ],
   "source": [
    "#Explore the volumn of the dataset WHO Suicide Statistics\n",
    "print((SuicideStats.count(), len(SuicideStats.columns)))"
   ]
  },
  {
   "cell_type": "code",
   "execution_count": 5,
   "metadata": {},
   "outputs": [
    {
     "name": "stdout",
     "output_type": "stream",
     "text": [
      "(189, 31)\n"
     ]
    }
   ],
   "source": [
    "#Explore the volumn of the dataset Human Development Index\n",
    "print((HDIStats.count(), len(HDIStats.columns)))"
   ]
  },
  {
   "cell_type": "code",
   "execution_count": 6,
   "metadata": {},
   "outputs": [
    {
     "name": "stdout",
     "output_type": "stream",
     "text": [
      "(6944, 6)\n"
     ]
    }
   ],
   "source": [
    "#Explore the volumn of the dataset World Development Indicators\n",
    "print((WDIStats.count(), len(WDIStats.columns)))"
   ]
  },
  {
   "cell_type": "code",
   "execution_count": 7,
   "metadata": {},
   "outputs": [
    {
     "name": "stdout",
     "output_type": "stream",
     "text": [
      "['country', 'year', 'sex', 'age', 'suicides_no', 'population']\n",
      "+-------+----+------+-----------+-----------+----------+\n",
      "|country|year|   sex|        age|suicides_no|population|\n",
      "+-------+----+------+-----------+-----------+----------+\n",
      "|Albania|1985|female|15-24 years|       null|    277900|\n",
      "|Albania|1985|female|25-34 years|       null|    246800|\n",
      "|Albania|1985|female|35-54 years|       null|    267500|\n",
      "|Albania|1985|female| 5-14 years|       null|    298300|\n",
      "|Albania|1985|female|55-74 years|       null|    138700|\n",
      "|Albania|1985|female|  75+ years|       null|     34200|\n",
      "+-------+----+------+-----------+-----------+----------+\n",
      "only showing top 6 rows\n",
      "\n"
     ]
    }
   ],
   "source": [
    "#Explore the data quality of the dataset WHO Suicide Statistics\n",
    "print(SuicideStats.columns)\n",
    "SuicideStats.show(6)"
   ]
  },
  {
   "cell_type": "code",
   "execution_count": 8,
   "metadata": {},
   "outputs": [
    {
     "name": "stdout",
     "output_type": "stream",
     "text": [
      "root\n",
      " |-- country: string (nullable = true)\n",
      " |-- year: integer (nullable = true)\n",
      " |-- sex: string (nullable = true)\n",
      " |-- age: string (nullable = true)\n",
      " |-- suicides_no: integer (nullable = true)\n",
      " |-- population: integer (nullable = true)\n",
      "\n"
     ]
    }
   ],
   "source": [
    "#Explore the data type of the dataset WHO Suicide Statistics\n",
    "SuicideStats.printSchema()"
   ]
  },
  {
   "cell_type": "code",
   "execution_count": 9,
   "metadata": {},
   "outputs": [
    {
     "name": "stdout",
     "output_type": "stream",
     "text": [
      "+------+\n",
      "|   sex|\n",
      "+------+\n",
      "|female|\n",
      "|  male|\n",
      "+------+\n",
      "\n",
      "+-----------+\n",
      "|        age|\n",
      "+-----------+\n",
      "|55-74 years|\n",
      "|25-34 years|\n",
      "| 5-14 years|\n",
      "|  75+ years|\n",
      "|15-24 years|\n",
      "|35-54 years|\n",
      "+-----------+\n",
      "\n",
      "141\n",
      "+-----------------+\n",
      "|          country|\n",
      "+-----------------+\n",
      "|         Anguilla|\n",
      "|         Paraguay|\n",
      "|       Cabo Verde|\n",
      "|           Sweden|\n",
      "|         Kiribati|\n",
      "|Republic of Korea|\n",
      "+-----------------+\n",
      "only showing top 6 rows\n",
      "\n"
     ]
    }
   ],
   "source": [
    "SuicideStats.select(\"sex\").distinct().show()\n",
    "SuicideStats.select(\"age\").distinct().show()\n",
    "print(SuicideStats.select(\"country\").distinct().count())\n",
    "SuicideStats.select(\"country\").distinct().show(6)"
   ]
  },
  {
   "cell_type": "code",
   "execution_count": 10,
   "metadata": {},
   "outputs": [
    {
     "name": "stdout",
     "output_type": "stream",
     "text": [
      "+-------+--------+------------------+------+-----------+-----------------+------------------+\n",
      "|summary| country|              year|   sex|        age|      suicides_no|        population|\n",
      "+-------+--------+------------------+------+-----------+-----------------+------------------+\n",
      "|  count|   43776|             43776| 43776|      43776|            41520|             38316|\n",
      "|   mean|    null|1998.5024671052631|  null|       null|193.3153901734104|1664091.1353742562|\n",
      "| stddev|    null|10.338711176746282|  null|       null|800.5899259349637|3647231.2274873867|\n",
      "|    min| Albania|              1979|female|15-24 years|                0|               259|\n",
      "|    max|Zimbabwe|              2016|  male|  75+ years|            22338|          43805214|\n",
      "+-------+--------+------------------+------+-----------+-----------------+------------------+\n",
      "\n"
     ]
    }
   ],
   "source": [
    "#Explore the general statistics of the dataset WHO Suicide Statistics\n",
    "SuicideStats.describe().show()"
   ]
  },
  {
   "cell_type": "code",
   "execution_count": 11,
   "metadata": {},
   "outputs": [
    {
     "name": "stdout",
     "output_type": "stream",
     "text": [
      "['HDI Rank', 'Country', '1990', '1991', '1992', '1993', '1994', '1995', '1996', '1997', '1998', '1999', '2000', '2001', '2002', '2003', '2004', '2005', '2006', '2007', '2008', '2009', '2010', '2011', '2012', '2013', '2014', '2015', '2016', '2017', '2018']\n",
      "+--------+-----------------+-----+-----+-----+-----+-----+-----+-----+-----+-----+-----+-----+-----+-----+-----+-----+-----+-----+-----+-----+-----+-----+-----+-----+-----+-----+-----+-----+-----+-----+\n",
      "|HDI Rank|          Country| 1990| 1991| 1992| 1993| 1994| 1995| 1996| 1997| 1998| 1999| 2000| 2001| 2002| 2003| 2004| 2005| 2006| 2007| 2008| 2009| 2010| 2011| 2012| 2013| 2014| 2015| 2016| 2017| 2018|\n",
      "+--------+-----------------+-----+-----+-----+-----+-----+-----+-----+-----+-----+-----+-----+-----+-----+-----+-----+-----+-----+-----+-----+-----+-----+-----+-----+-----+-----+-----+-----+-----+-----+\n",
      "|     170|      Afghanistan|0.298|0.304|0.312|0.308|0.303|0.327|0.331|0.335|0.339|0.343|0.345|0.347|0.378|0.387|  0.4| 0.41|0.419|0.431|0.436|0.447|0.464|0.465|0.479|0.485|0.488| 0.49|0.491|0.493|0.496|\n",
      "|      69|          Albania|0.644|0.625|0.608|0.611|0.617|0.629|0.639|0.639|0.649| 0.66|0.667|0.673| 0.68|0.687|0.692|0.702|0.709|0.718|0.724|0.729| 0.74|0.759|0.771|0.781|0.787|0.788|0.788|0.789|0.791|\n",
      "|      82|          Algeria|0.578|0.582|0.589|0.593|0.597|0.602| 0.61|0.619|0.629|0.638|0.646|0.655|0.666|0.676|0.685|0.694|0.699|0.708|0.711| 0.72| 0.73|0.738|0.737|0.746|0.749|0.751|0.755|0.758|0.759|\n",
      "|      36|          Andorra|   ..|   ..|   ..|   ..|   ..|   ..|   ..|   ..|   ..|   ..|0.759|0.767| 0.78| 0.82|0.826|0.819|0.829|0.829|0.831| 0.83|0.828|0.827|0.849|0.846|0.853| 0.85|0.854|0.852|0.857|\n",
      "|     149|           Angola|   ..|   ..|   ..|   ..|   ..|   ..|   ..|   ..|   ..|0.384|0.394|0.404|0.419|0.428| 0.44|0.453|0.466|0.482|0.494|0.508| 0.51|0.525|0.537|0.547|0.557|0.565| 0.57|0.576|0.574|\n",
      "|      74|AntiguaandBarbuda|   ..|   ..|   ..|   ..|   ..|   ..|   ..|   ..|   ..|   ..|   ..|   ..|   ..|   ..|   ..|0.773|0.779|0.784|0.783|0.776|0.772|0.764|0.767|0.767|0.767| 0.77|0.772|0.774|0.776|\n",
      "+--------+-----------------+-----+-----+-----+-----+-----+-----+-----+-----+-----+-----+-----+-----+-----+-----+-----+-----+-----+-----+-----+-----+-----+-----+-----+-----+-----+-----+-----+-----+-----+\n",
      "only showing top 6 rows\n",
      "\n"
     ]
    }
   ],
   "source": [
    "#Explore the data quality of the dataset Human Development Index\n",
    "print(HDIStats.columns)\n",
    "HDIStats.show(6)"
   ]
  },
  {
   "cell_type": "code",
   "execution_count": 12,
   "metadata": {},
   "outputs": [
    {
     "name": "stdout",
     "output_type": "stream",
     "text": [
      "root\n",
      " |-- HDI Rank: integer (nullable = true)\n",
      " |-- Country: string (nullable = true)\n",
      " |-- 1990: string (nullable = true)\n",
      " |-- 1991: string (nullable = true)\n",
      " |-- 1992: string (nullable = true)\n",
      " |-- 1993: string (nullable = true)\n",
      " |-- 1994: string (nullable = true)\n",
      " |-- 1995: string (nullable = true)\n",
      " |-- 1996: string (nullable = true)\n",
      " |-- 1997: string (nullable = true)\n",
      " |-- 1998: string (nullable = true)\n",
      " |-- 1999: string (nullable = true)\n",
      " |-- 2000: string (nullable = true)\n",
      " |-- 2001: string (nullable = true)\n",
      " |-- 2002: string (nullable = true)\n",
      " |-- 2003: string (nullable = true)\n",
      " |-- 2004: string (nullable = true)\n",
      " |-- 2005: string (nullable = true)\n",
      " |-- 2006: string (nullable = true)\n",
      " |-- 2007: string (nullable = true)\n",
      " |-- 2008: string (nullable = true)\n",
      " |-- 2009: string (nullable = true)\n",
      " |-- 2010: string (nullable = true)\n",
      " |-- 2011: string (nullable = true)\n",
      " |-- 2012: string (nullable = true)\n",
      " |-- 2013: string (nullable = true)\n",
      " |-- 2014: string (nullable = true)\n",
      " |-- 2015: string (nullable = true)\n",
      " |-- 2016: string (nullable = true)\n",
      " |-- 2017: double (nullable = true)\n",
      " |-- 2018: double (nullable = true)\n",
      "\n"
     ]
    }
   ],
   "source": [
    "#Explore the data type of the dataset Human Development Index\n",
    "HDIStats.printSchema()"
   ]
  },
  {
   "cell_type": "code",
   "execution_count": 13,
   "metadata": {},
   "outputs": [
    {
     "name": "stdout",
     "output_type": "stream",
     "text": [
      "+-------+-----------------+-----------+-------------------+------------------+-------------------+-------------------+-------------------+------------------+-------------------+------------------+------------------+-----------------+-------------------+-------------------+-------------------+------------------+-------------------+-------------------+------------------+-------------------+-------------------+-------------------+-------------------+-------------------+------------------+-------------------+------------------+-------------------+------------------+-------------------+-------------------+\n",
      "|summary|         HDI Rank|    Country|               1990|              1991|               1992|               1993|               1994|              1995|               1996|              1997|              1998|             1999|               2000|               2001|               2002|              2003|               2004|               2005|              2006|               2007|               2008|               2009|               2010|               2011|              2012|               2013|              2014|               2015|              2016|               2017|               2018|\n",
      "+-------+-----------------+-----------+-------------------+------------------+-------------------+-------------------+-------------------+------------------+-------------------+------------------+------------------+-----------------+-------------------+-------------------+-------------------+------------------+-------------------+-------------------+------------------+-------------------+-------------------+-------------------+-------------------+-------------------+------------------+-------------------+------------------+-------------------+------------------+-------------------+-------------------+\n",
      "|  count|              189|        189|                189|               189|                189|                189|                189|               189|                189|               189|               189|              189|                189|                189|                189|               189|                189|                189|               189|                189|                189|                189|                189|                189|               189|                189|               189|                189|               189|                189|                189|\n",
      "|   mean|94.77248677248677|       null| 0.5949513888888888|0.5971597222222224| 0.5969790209790211| 0.6028611111111108| 0.6065277777777774|0.6103445945945944|  0.615858108108108|0.6191700680272109|0.6262432432432437|0.626814569536424|   0.62732183908046| 0.6329540229885059| 0.6388800000000002| 0.643994350282486| 0.6505307262569835| 0.6540537634408602|0.6611290322580645| 0.6681075268817206| 0.6741612903225808|              0.678|  0.681712765957447| 0.6874202127659573|0.6922659574468086|  0.697127659574468|0.7013989361702128| 0.7053510638297874| 0.708489361702128| 0.7112222222222223| 0.7134708994708996|\n",
      "| stddev|54.74045223905498|       null|0.16559426064600388|0.1659663654186352|0.16557515924678484|0.16770526973848346|0.17017526729998575|0.1689925616379318|0.16869249123917165|0.1681109945696617|0.1693128015950585| 0.17098102834227|0.16947293297641114|0.16910990427413294|0.16791377918854467|0.1680289645342278|0.16595157309405328|0.16487937379999615| 0.163487910177461|0.16223995991027756|0.16067884977099967|0.15777250128638434|0.15668153758878414|0.15506161968527132|0.1538444367098304|0.15355305195799956|0.1526419928026906|0.15229314593351687|0.1521042243771921|0.15121385917194813|0.15079461673378391|\n",
      "|    min|                1|Afghanistan|                 ..|                ..|                 ..|                 ..|                 ..|                ..|                 ..|                ..|                ..|               ..|                 ..|                 ..|                 ..|                ..|                 ..|                 ..|                ..|                 ..|                 ..|                 ..|                 ..|                 ..|                ..|                 ..|                ..|                 ..|                ..|              0.373|              0.377|\n",
      "|    max|              189|   Zimbabwe|              0.866|             0.867|              0.868|              0.872|              0.885|             0.883|              0.888|             0.894|             0.906|            0.911|              0.917|              0.916|              0.918|             0.924|              0.934|              0.932|             0.936|              0.938|              0.938|              0.938|              0.942|              0.943|             0.942|              0.946|             0.945|              0.948|             0.951|              0.953|              0.954|\n",
      "+-------+-----------------+-----------+-------------------+------------------+-------------------+-------------------+-------------------+------------------+-------------------+------------------+------------------+-----------------+-------------------+-------------------+-------------------+------------------+-------------------+-------------------+------------------+-------------------+-------------------+-------------------+-------------------+-------------------+------------------+-------------------+------------------+-------------------+------------------+-------------------+-------------------+\n",
      "\n"
     ]
    }
   ],
   "source": [
    "#Explore the general statistics of the dataset Human Development Index\n",
    "HDIStats.describe().show()"
   ]
  },
  {
   "cell_type": "code",
   "execution_count": 14,
   "metadata": {},
   "outputs": [
    {
     "name": "stdout",
     "output_type": "stream",
     "text": [
      "['Country Name', 'Year', 'Employment to population ratio', 'GDP', 'GDP per capita', 'Gini index']\n",
      "+------------+----+------------------------------+----+--------------+----------+\n",
      "|Country Name|Year|Employment to population ratio| GDP|GDP per capita|Gini index|\n",
      "+------------+----+------------------------------+----+--------------+----------+\n",
      "| Afghanistan|1985|                          null|null|          null|      null|\n",
      "| Afghanistan|1986|                          null|null|          null|      null|\n",
      "| Afghanistan|1987|                          null|null|          null|      null|\n",
      "| Afghanistan|1988|                          null|null|          null|      null|\n",
      "| Afghanistan|1989|                          null|null|          null|      null|\n",
      "| Afghanistan|1990|                          null|null|          null|      null|\n",
      "+------------+----+------------------------------+----+--------------+----------+\n",
      "only showing top 6 rows\n",
      "\n"
     ]
    }
   ],
   "source": [
    "#Explore the data quality of the dataset World Development Indicators\n",
    "print(WDIStats.columns)\n",
    "WDIStats.show(6)"
   ]
  },
  {
   "cell_type": "code",
   "execution_count": 15,
   "metadata": {},
   "outputs": [
    {
     "name": "stdout",
     "output_type": "stream",
     "text": [
      "root\n",
      " |-- Country Name: string (nullable = true)\n",
      " |-- Year: integer (nullable = true)\n",
      " |-- Employment to population ratio: double (nullable = true)\n",
      " |-- GDP: double (nullable = true)\n",
      " |-- GDP per capita: double (nullable = true)\n",
      " |-- Gini index: double (nullable = true)\n",
      "\n"
     ]
    }
   ],
   "source": [
    "#Explore the data type of the dataset World Development Indicators\n",
    "WDIStats.printSchema()"
   ]
  },
  {
   "cell_type": "code",
   "execution_count": 16,
   "metadata": {},
   "outputs": [
    {
     "name": "stdout",
     "output_type": "stream",
     "text": [
      "+-------+------------+-----------------+------------------------------+--------------------+------------------+-----------------+\n",
      "|summary|Country Name|             Year|Employment to population ratio|                 GDP|    GDP per capita|       Gini index|\n",
      "+-------+------------+-----------------+------------------------------+--------------------+------------------+-----------------+\n",
      "|  count|        6944|             6944|                          4862|                5979|              5976|             1550|\n",
      "|   mean|        null|           2000.5|              57.6225362242226|2.745890309848958...| 13124.04119241654|38.62148387096775|\n",
      "| stddev|        null|9.233757553344075|            11.968146617150545|1.111967617317697E12|20099.670239668914|9.432100956926329|\n",
      "|    min| Afghanistan|             1985|                   26.32999992|       2.144196696E7|       164.1918663|             20.2|\n",
      "|    max|    Zimbabwe|             2016|                    90.4469986|          1.69723E13|       194368.4055|             65.8|\n",
      "+-------+------------+-----------------+------------------------------+--------------------+------------------+-----------------+\n",
      "\n"
     ]
    }
   ],
   "source": [
    "#Explore the general statistics of the dataset World Development Indicators\n",
    "WDIStats.describe().show()"
   ]
  },
  {
   "cell_type": "markdown",
   "metadata": {},
   "source": [
    "##Verify the Data Quality"
   ]
  },
  {
   "cell_type": "code",
   "execution_count": 17,
   "metadata": {},
   "outputs": [
    {
     "name": "stdout",
     "output_type": "stream",
     "text": [
      "+-------+----+---+---+-----------+----------+\n",
      "|country|year|sex|age|suicides_no|population|\n",
      "+-------+----+---+---+-----------+----------+\n",
      "|      0|   0|  0|  0|       2256|      5460|\n",
      "+-------+----+---+---+-----------+----------+\n",
      "\n",
      "+-------+-------+-----+-----+-----+-----------+----------+\n",
      "|summary|country| year|  sex|  age|suicides_no|population|\n",
      "+-------+-------+-----+-----+-----+-----------+----------+\n",
      "|  count|  43776|43776|43776|43776|      41520|     38316|\n",
      "+-------+-------+-----+-----+-----+-----------+----------+\n",
      "\n"
     ]
    }
   ],
   "source": [
    "#Explore missing values in the dataset WHO Suicide Statistics\n",
    "\n",
    "SuicideStats.select([count(when(col(c).isNull(), c)).alias(c) for c in SuicideStats.columns]).show()\n",
    "SuicideStats.describe().filter(col(\"summary\")  == \"count\").show()"
   ]
  },
  {
   "cell_type": "code",
   "execution_count": 18,
   "metadata": {},
   "outputs": [
    {
     "name": "stdout",
     "output_type": "stream",
     "text": [
      "+--------+-------+----+----+----+----+----+----+----+----+----+----+----+----+----+----+----+----+----+----+----+----+----+----+----+----+----+----+----+----+----+\n",
      "|HDI Rank|Country|1990|1991|1992|1993|1994|1995|1996|1997|1998|1999|2000|2001|2002|2003|2004|2005|2006|2007|2008|2009|2010|2011|2012|2013|2014|2015|2016|2017|2018|\n",
      "+--------+-------+----+----+----+----+----+----+----+----+----+----+----+----+----+----+----+----+----+----+----+----+----+----+----+----+----+----+----+----+----+\n",
      "|       0|      0|  45|  45|  46|  45|  45|  41|  41|  42|  41|  38|  15|  15|  14|  12|  10|   3|   3|   3|   3|   3|   1|   1|   1|   1|   1|   1|   1|   0|   0|\n",
      "+--------+-------+----+----+----+----+----+----+----+----+----+----+----+----+----+----+----+----+----+----+----+----+----+----+----+----+----+----+----+----+----+\n",
      "\n",
      "+-------+--------+-------+----+----+----+----+----+----+----+----+----+----+----+----+----+----+----+----+----+----+----+----+----+----+----+----+----+----+----+----+----+\n",
      "|summary|HDI Rank|Country|1990|1991|1992|1993|1994|1995|1996|1997|1998|1999|2000|2001|2002|2003|2004|2005|2006|2007|2008|2009|2010|2011|2012|2013|2014|2015|2016|2017|2018|\n",
      "+-------+--------+-------+----+----+----+----+----+----+----+----+----+----+----+----+----+----+----+----+----+----+----+----+----+----+----+----+----+----+----+----+----+\n",
      "|  count|     189|    189| 144| 144| 143| 144| 144| 148| 148| 147| 148| 151| 174| 174| 175| 177| 179| 186| 186| 186| 186| 186| 188| 188| 188| 188| 188| 188| 188| 189| 189|\n",
      "+-------+--------+-------+----+----+----+----+----+----+----+----+----+----+----+----+----+----+----+----+----+----+----+----+----+----+----+----+----+----+----+----+----+\n",
      "\n"
     ]
    }
   ],
   "source": [
    "#Re-import dataset, taking .. as null value\n",
    "HDIStats = spark.read.csv(\"data/Human Development Index.csv\",inferSchema=True, header=True, nullValue=\"..\")\n",
    "\n",
    "#Explore missing values in the dataset World Development Indicators\n",
    "HDIStats.select([count(when(col(c).isNull(), c)).alias(c) for c in HDIStats.columns]).show()\n",
    "HDIStats.describe().filter(col(\"summary\")  == \"count\").show()"
   ]
  },
  {
   "cell_type": "code",
   "execution_count": 19,
   "metadata": {},
   "outputs": [
    {
     "name": "stdout",
     "output_type": "stream",
     "text": [
      "+------------+----+------------------------------+---+--------------+----------+\n",
      "|Country Name|Year|Employment to population ratio|GDP|GDP per capita|Gini index|\n",
      "+------------+----+------------------------------+---+--------------+----------+\n",
      "|           0|   0|                          2082|965|           968|      5394|\n",
      "+------------+----+------------------------------+---+--------------+----------+\n",
      "\n",
      "+-------+------------+----+------------------------------+----+--------------+----------+\n",
      "|summary|Country Name|Year|Employment to population ratio| GDP|GDP per capita|Gini index|\n",
      "+-------+------------+----+------------------------------+----+--------------+----------+\n",
      "|  count|        6944|6944|                          4862|5979|          5976|      1550|\n",
      "+-------+------------+----+------------------------------+----+--------------+----------+\n",
      "\n"
     ]
    }
   ],
   "source": [
    "#Explore missing values in the dataset World Development Indicators\n",
    "WDIStats.select([count(when(col(c).isNull(), c)).alias(c) for c in WDIStats.columns]).show()\n",
    "WDIStats.describe().filter(col(\"summary\")  == \"count\").show()"
   ]
  },
  {
   "cell_type": "markdown",
   "metadata": {},
   "source": [
    "# Data Preparation"
   ]
  },
  {
   "cell_type": "markdown",
   "metadata": {},
   "source": [
    "## Select the Data"
   ]
  },
  {
   "cell_type": "code",
   "execution_count": 20,
   "metadata": {},
   "outputs": [
    {
     "name": "stdout",
     "output_type": "stream",
     "text": [
      "(43776, 6)\n",
      "(38316, 6)\n"
     ]
    }
   ],
   "source": [
    "#Selecting Items\n",
    "#select records with populartion greater than 0\n",
    "print((SuicideStats.count(), len(SuicideStats.columns)))\n",
    "\n",
    "SuicideStats.createOrReplaceTempView('suicideStats')\n",
    "SuicideStats = spark.sql(\"SELECT * FROM suicideStats WHERE population >= 0\")\n",
    "print((SuicideStats.count(), len(SuicideStats.columns)))"
   ]
  },
  {
   "cell_type": "code",
   "execution_count": 21,
   "metadata": {},
   "outputs": [
    {
     "name": "stdout",
     "output_type": "stream",
     "text": [
      "(189, 31)\n",
      "(189, 30)\n"
     ]
    }
   ],
   "source": [
    "#remove HDI Rank from HDIStats\n",
    "print((HDIStats.count(), len(HDIStats.columns)))\n",
    "\n",
    "HDIStats = HDIStats.drop(\"HDI Rank\")\n",
    "\n",
    "print((HDIStats.count(), len(HDIStats.columns)))"
   ]
  },
  {
   "cell_type": "code",
   "execution_count": 22,
   "metadata": {},
   "outputs": [
    {
     "name": "stdout",
     "output_type": "stream",
     "text": [
      "+-----------------+-----+-----+-----+-----+-----+-----+-----+-----+-----+-----+-----+-----+-----+-----+-----+-----+-----+-----+-----+-----+-----+-----+-----+-----+-----+-----+-----+-----+-----+\n",
      "|          Country| 1990| 1991| 1992| 1993| 1994| 1995| 1996| 1997| 1998| 1999| 2000| 2001| 2002| 2003| 2004| 2005| 2006| 2007| 2008| 2009| 2010| 2011| 2012| 2013| 2014| 2015| 2016| 2017| 2018|\n",
      "+-----------------+-----+-----+-----+-----+-----+-----+-----+-----+-----+-----+-----+-----+-----+-----+-----+-----+-----+-----+-----+-----+-----+-----+-----+-----+-----+-----+-----+-----+-----+\n",
      "|      Afghanistan|0.298|0.304|0.312|0.308|0.303|0.327|0.331|0.335|0.339|0.343|0.345|0.347|0.378|0.387|  0.4| 0.41|0.419|0.431|0.436|0.447|0.464|0.465|0.479|0.485|0.488| 0.49|0.491|0.493|0.496|\n",
      "|          Albania|0.644|0.625|0.608|0.611|0.617|0.629|0.639|0.639|0.649| 0.66|0.667|0.673| 0.68|0.687|0.692|0.702|0.709|0.718|0.724|0.729| 0.74|0.759|0.771|0.781|0.787|0.788|0.788|0.789|0.791|\n",
      "|          Algeria|0.578|0.582|0.589|0.593|0.597|0.602| 0.61|0.619|0.629|0.638|0.646|0.655|0.666|0.676|0.685|0.694|0.699|0.708|0.711| 0.72| 0.73|0.738|0.737|0.746|0.749|0.751|0.755|0.758|0.759|\n",
      "|          Andorra| null| null| null| null| null| null| null| null| null| null|0.759|0.767| 0.78| 0.82|0.826|0.819|0.829|0.829|0.831| 0.83|0.828|0.827|0.849|0.846|0.853| 0.85|0.854|0.852|0.857|\n",
      "|           Angola| null| null| null| null| null| null| null| null| null|0.384|0.394|0.404|0.419|0.428| 0.44|0.453|0.466|0.482|0.494|0.508| 0.51|0.525|0.537|0.547|0.557|0.565| 0.57|0.576|0.574|\n",
      "|AntiguaandBarbuda| null| null| null| null| null| null| null| null| null| null| null| null| null| null| null|0.773|0.779|0.784|0.783|0.776|0.772|0.764|0.767|0.767|0.767| 0.77|0.772|0.774|0.776|\n",
      "+-----------------+-----+-----+-----+-----+-----+-----+-----+-----+-----+-----+-----+-----+-----+-----+-----+-----+-----+-----+-----+-----+-----+-----+-----+-----+-----+-----+-----+-----+-----+\n",
      "only showing top 6 rows\n",
      "\n"
     ]
    }
   ],
   "source": [
    "HDIStats.show(6)"
   ]
  },
  {
   "cell_type": "markdown",
   "metadata": {},
   "source": [
    "## Clean the Data"
   ]
  },
  {
   "cell_type": "code",
   "execution_count": 23,
   "metadata": {},
   "outputs": [
    {
     "name": "stdout",
     "output_type": "stream",
     "text": [
      "(38316, 6)\n",
      "(36060, 6)\n",
      "+-------+----+---+---+-----------+----------+\n",
      "|country|year|sex|age|suicides_no|population|\n",
      "+-------+----+---+---+-----------+----------+\n",
      "|      0|   0|  0|  0|          0|         0|\n",
      "+-------+----+---+---+-----------+----------+\n",
      "\n"
     ]
    }
   ],
   "source": [
    "#Data cleaning\n",
    "#remove misssing values from WHO Suicide Statistics\n",
    "print((SuicideStats.count(), len(SuicideStats.columns)))\n",
    "SuicideStats = SuicideStats.na.drop(subset=\"suicides_no\")\n",
    "print((SuicideStats.count(), len(SuicideStats.columns)))\n",
    "\n",
    "#Display the number of null value in each column after removing missing values\n",
    "SuicideStats.select([count(when(col(c).isNull(), c)).alias(c) for c in SuicideStats.columns]).show()"
   ]
  },
  {
   "cell_type": "code",
   "execution_count": 24,
   "metadata": {},
   "outputs": [
    {
     "name": "stdout",
     "output_type": "stream",
     "text": [
      "+-----------------+--------------------+\n",
      "|          Country|                mean|\n",
      "+-----------------+--------------------+\n",
      "|      Afghanistan| -0.6149666666666667|\n",
      "|          Albania|-0.32346666666666657|\n",
      "|          Algeria|              -0.346|\n",
      "|          Andorra| -0.4764666666666667|\n",
      "|           Angola| -0.6722333333333333|\n",
      "|AntiguaandBarbuda|             -0.6392|\n",
      "+-----------------+--------------------+\n",
      "only showing top 6 rows\n",
      "\n"
     ]
    }
   ],
   "source": [
    "#Calculate mean value of each country\n",
    "HDIStatsMean = HDIStats.na.fill(0)\n",
    "HDIStatsMean = HDIStatsMean.select(col('Country'), (sum(col(x) for x in HDIStats.columns[1:]) / len(HDIStats.columns)-1).alias(\"mean\"))\n",
    "\n",
    "HDIStatsMean.show(6)"
   ]
  },
  {
   "cell_type": "code",
   "execution_count": 25,
   "metadata": {},
   "outputs": [
    {
     "name": "stdout",
     "output_type": "stream",
     "text": [
      "+-------+----+----+----+----+----+----+----+----+----+----+----+----+----+----+----+----+----+----+----+----+----+----+----+----+----+----+----+----+----+\n",
      "|Country|1990|1991|1992|1993|1994|1995|1996|1997|1998|1999|2000|2001|2002|2003|2004|2005|2006|2007|2008|2009|2010|2011|2012|2013|2014|2015|2016|2017|2018|\n",
      "+-------+----+----+----+----+----+----+----+----+----+----+----+----+----+----+----+----+----+----+----+----+----+----+----+----+----+----+----+----+----+\n",
      "|      0|   0|   0|   0|   0|   0|   0|   0|   0|   0|   0|   0|   0|   0|   0|   0|   0|   0|   0|   0|   0|   0|   0|   0|   0|   0|   0|   0|   0|   0|\n",
      "+-------+----+----+----+----+----+----+----+----+----+----+----+----+----+----+----+----+----+----+----+----+----+----+----+----+----+----+----+----+----+\n",
      "\n"
     ]
    }
   ],
   "source": [
    "HDIStats = HDIStats.alias('a')\\\n",
    "    .join(HDIStatsMean.alias('b'),col('b.Country') == col('a.Country'))\\\n",
    "    .select([when(col('a.'+xx).isNull(), col('b.mean')).otherwise(col('a.'+xx)).alias(xx) for xx in HDIStats.columns])\n",
    "\n",
    "#Display the number of null value in each column after removing missing values\n",
    "HDIStats.select([count(when(col(c).isNull(), c)).alias(c) for c in HDIStats.columns]).show()\n"
   ]
  },
  {
   "cell_type": "code",
   "execution_count": 26,
   "metadata": {},
   "outputs": [
    {
     "name": "stdout",
     "output_type": "stream",
     "text": [
      "+------------+----+------------------------------+---+--------------+----------+\n",
      "|Country Name|Year|Employment to population ratio|GDP|GDP per capita|Gini index|\n",
      "+------------+----+------------------------------+---+--------------+----------+\n",
      "|           0|   0|                          2082|965|           968|      5394|\n",
      "+------------+----+------------------------------+---+--------------+----------+\n",
      "\n",
      "+------------+----+------------------------------+---+--------------+----------+\n",
      "|Country Name|Year|Employment to population ratio|GDP|GDP per capita|Gini index|\n",
      "+------------+----+------------------------------+---+--------------+----------+\n",
      "|           0|   0|                             0|  0|             0|         0|\n",
      "+------------+----+------------------------------+---+--------------+----------+\n",
      "\n"
     ]
    }
   ],
   "source": [
    "#cleanig WDIStats\n",
    "#replace missing value with the mean value of this country\n",
    "\n",
    "WDIStats.select([count(when(col(c).isNull(), c)).alias(c) for c in WDIStats.columns]).show()\n",
    "\n",
    "def fill_with_mean(df, exclude=set()): \n",
    "    stats = df.agg(*(\n",
    "        avg(c).alias(c) for c in df.columns if c not in exclude\n",
    "    ))\n",
    "    return df.na.fill(stats.first().asDict())\n",
    "\n",
    "WDIStats = fill_with_mean(WDIStats, [\"Country Name\", \"Year\"])\n",
    "\n",
    "WDIStats.select([count(when(col(c).isNull(), c)).alias(c) for c in WDIStats.columns]).show()"
   ]
  },
  {
   "cell_type": "code",
   "execution_count": 27,
   "metadata": {},
   "outputs": [
    {
     "name": "stdout",
     "output_type": "stream",
     "text": [
      "(36060, 6)\n",
      "(28783, 6)\n"
     ]
    }
   ],
   "source": [
    "#remove extreme and outliers\n",
    "print((SuicideStats.count(), len(SuicideStats.columns)))\n",
    "\n",
    "bounds = {\n",
    "    c: dict(\n",
    "        zip([\"q1\", \"q3\"], SuicideStats.approxQuantile(c, [0.25, 0.75], 0))\n",
    "    )\n",
    "    for c in SuicideStats.columns if c in [\"suicides_no\", \"population\"]\n",
    "}\n",
    "\n",
    "for c in bounds:\n",
    "    iqr = bounds[c]['q3'] - bounds[c]['q1']\n",
    "    bounds[c]['lower'] = bounds[c]['q1'] - (iqr * 1.5)\n",
    "    bounds[c]['upper'] = bounds[c]['q3'] + (iqr * 1.5)\n",
    "\n",
    "SuicideStats = SuicideStats.select(\n",
    "    \"*\",\n",
    "    *[\n",
    "        when(\n",
    "            col(c).between(bounds[c]['lower'], bounds[c]['upper']),\n",
    "            0\n",
    "        ).otherwise(1).alias(c+\"_out\") \n",
    "        for c in SuicideStats.columns  if c in [\"suicides_no\", \"population\"]\n",
    "    ]\n",
    ")\n",
    "\n",
    "SuicideStats.createOrReplaceTempView('SuicideStats')\n",
    "SuicideStats = spark.sql(\"SELECT country, year, sex, age, suicides_no, population FROM SuicideStats WHERE suicides_no_out = 0 and population_out=0 \")\n",
    "print((SuicideStats.count(), len(SuicideStats.columns)))\n"
   ]
  },
  {
   "cell_type": "markdown",
   "metadata": {},
   "source": [
    "## Construct the Data"
   ]
  },
  {
   "cell_type": "code",
   "execution_count": 28,
   "metadata": {},
   "outputs": [
    {
     "name": "stdout",
     "output_type": "stream",
     "text": [
      "(28783, 7)\n",
      "+-------+----+------+-----------+-----------+----------+------------------+\n",
      "|country|year|   sex|        age|suicides_no|population|    SuicidePer100k|\n",
      "+-------+----+------+-----------+-----------+----------+------------------+\n",
      "|Albania|1987|female|15-24 years|         14|    289700|4.8325854332067655|\n",
      "|Albania|1987|female|25-34 years|          4|    257200|1.5552099533437014|\n",
      "|Albania|1987|female|35-54 years|          6|    278800|2.1520803443328553|\n",
      "|Albania|1987|female| 5-14 years|          0|    311000|               0.0|\n",
      "|Albania|1987|female|55-74 years|          0|    144600|               0.0|\n",
      "|Albania|1987|female|  75+ years|          1|     35600| 2.808988764044944|\n",
      "+-------+----+------+-----------+-----------+----------+------------------+\n",
      "only showing top 6 rows\n",
      "\n"
     ]
    }
   ],
   "source": [
    "#Construct the Data\n",
    "#add new feature suicidePer100k to SuicideStats\n",
    "\n",
    "SuicideStats = SuicideStats.withColumn(\"SuicidePer100k\", col(\"suicides_no\")/col(\"population\")*100000)\n",
    "\n",
    "print((SuicideStats.count(), len(SuicideStats.columns)))\n",
    "SuicideStats.show(6)"
   ]
  },
  {
   "cell_type": "code",
   "execution_count": 29,
   "metadata": {},
   "outputs": [
    {
     "name": "stdout",
     "output_type": "stream",
     "text": [
      "+-----------+-----+-----+-----+-----+-----+-----+-----+-----+-----+-----+-----+-----+-----+-----+-----+-----+-----+-----+-----+-----+-----+-----+-----+-----+-----+-----+-----+-----+-----+\n",
      "|    Country| 1990| 1991| 1992| 1993| 1994| 1995| 1996| 1997| 1998| 1999| 2000| 2001| 2002| 2003| 2004| 2005| 2006| 2007| 2008| 2009| 2010| 2011| 2012| 2013| 2014| 2015| 2016| 2017| 2018|\n",
      "+-----------+-----+-----+-----+-----+-----+-----+-----+-----+-----+-----+-----+-----+-----+-----+-----+-----+-----+-----+-----+-----+-----+-----+-----+-----+-----+-----+-----+-----+-----+\n",
      "|Afghanistan|0.298|0.304|0.312|0.308|0.303|0.327|0.331|0.335|0.339|0.343|0.345|0.347|0.378|0.387|  0.4| 0.41|0.419|0.431|0.436|0.447|0.464|0.465|0.479|0.485|0.488| 0.49|0.491|0.493|0.496|\n",
      "|    Albania|0.644|0.625|0.608|0.611|0.617|0.629|0.639|0.639|0.649| 0.66|0.667|0.673| 0.68|0.687|0.692|0.702|0.709|0.718|0.724|0.729| 0.74|0.759|0.771|0.781|0.787|0.788|0.788|0.789|0.791|\n",
      "|    Algeria|0.578|0.582|0.589|0.593|0.597|0.602| 0.61|0.619|0.629|0.638|0.646|0.655|0.666|0.676|0.685|0.694|0.699|0.708|0.711| 0.72| 0.73|0.738|0.737|0.746|0.749|0.751|0.755|0.758|0.759|\n",
      "+-----------+-----+-----+-----+-----+-----+-----+-----+-----+-----+-----+-----+-----+-----+-----+-----+-----+-----+-----+-----+-----+-----+-----+-----+-----+-----+-----+-----+-----+-----+\n",
      "only showing top 3 rows\n",
      "\n",
      "+-----------+----+--------+\n",
      "|    Country|Year|HDIScore|\n",
      "+-----------+----+--------+\n",
      "|Afghanistan|1990|   0.298|\n",
      "|Afghanistan|1991|   0.304|\n",
      "|Afghanistan|1992|   0.312|\n",
      "|Afghanistan|1993|   0.308|\n",
      "|Afghanistan|1994|   0.303|\n",
      "|Afghanistan|1995|   0.327|\n",
      "+-----------+----+--------+\n",
      "only showing top 6 rows\n",
      "\n"
     ]
    }
   ],
   "source": [
    "#transport HDI score \n",
    "#HDIStats.columns\n",
    "HDIStats.show(3)\n",
    "\n",
    "cols, dtypes = zip(*((c, t) for (c, t) in HDIStats.dtypes if c not in ['Country']))\n",
    "kvs = explode(array([\n",
    "      struct(lit(c).alias(\"Year\"), col(c).alias(\"HDIScore\")) for c in cols\n",
    "    ])).alias(\"kvs\")\n",
    "    \n",
    "HDIStats = HDIStats.select(['Country'] + [kvs]).select(['Country'] + [\"kvs.Year\", \"kvs.HDIScore\"])\n",
    "HDIStats.show(6)\n"
   ]
  },
  {
   "cell_type": "markdown",
   "metadata": {},
   "source": [
    "## Integrate the Data"
   ]
  },
  {
   "cell_type": "code",
   "execution_count": 30,
   "metadata": {},
   "outputs": [],
   "source": [
    "#Integrate Data Sources\n",
    "\n",
    "#rename columns\n",
    "SuicideStats = SuicideStats.withColumnRenamed(\"country\",\"Country\")\\\n",
    "    .withColumnRenamed(\"year\",\"Year\")\\\n",
    "    .withColumnRenamed(\"sex\",\"Sex\")\\\n",
    "    .withColumnRenamed(\"age\",\"Age\")\\\n",
    "    .withColumnRenamed(\"suicides_no\",\"SuicidesNo\")\\\n",
    "    .withColumnRenamed(\"population\",\"Population\")\n",
    "\n",
    "WDIStats = WDIStats.withColumnRenamed(\"Country Name\",\"Country\")\\\n",
    "    .withColumnRenamed(\"Employment to population ratio\",\"EmploymentToPopulationRatio\")\\\n",
    "    .withColumnRenamed(\"GDP per capita\",\"GDPPerCapita\")\\\n",
    "    .withColumnRenamed(\"Gini index\",\"GiniIndex\")\n"
   ]
  },
  {
   "cell_type": "code",
   "execution_count": 31,
   "metadata": {},
   "outputs": [
    {
     "name": "stdout",
     "output_type": "stream",
     "text": [
      "(17665, 12)\n",
      "+-------+----+----+-----------+----------+----------+------------------+--------+---------------------------+-------------+------------+-----------------+\n",
      "|Country|Year| Sex|        Age|SuicidesNo|Population|    SuicidePer100k|HDIScore|EmploymentToPopulationRatio|          GDP|GDPPerCapita|        GiniIndex|\n",
      "+-------+----+----+-----------+----------+----------+------------------+--------+---------------------------+-------------+------------+-----------------+\n",
      "|Albania|1992|male|  75+ years|         0|     23900|               0.0|   0.608|                54.30599976|4.038036613E9| 1243.605824|38.62148387096775|\n",
      "|Albania|1992|male|55-74 years|         5|    159500| 3.134796238244514|   0.608|                54.30599976|4.038036613E9| 1243.605824|38.62148387096775|\n",
      "|Albania|1992|male| 5-14 years|         0|    362900|               0.0|   0.608|                54.30599976|4.038036613E9| 1243.605824|38.62148387096775|\n",
      "|Albania|1992|male|35-54 years|        12|    343800|3.4904013961605584|   0.608|                54.30599976|4.038036613E9| 1243.605824|38.62148387096775|\n",
      "|Albania|1992|male|25-34 years|         7|    245500|2.8513238289205702|   0.608|                54.30599976|4.038036613E9| 1243.605824|38.62148387096775|\n",
      "|Albania|1992|male|15-24 years|         9|    263700|3.4129692832764507|   0.608|                54.30599976|4.038036613E9| 1243.605824|38.62148387096775|\n",
      "+-------+----+----+-----------+----------+----------+------------------+--------+---------------------------+-------------+------------+-----------------+\n",
      "only showing top 6 rows\n",
      "\n"
     ]
    }
   ],
   "source": [
    "#merge data to a single data frame\n",
    "datasource = SuicideStats\\\n",
    "    .join(HDIStats, (SuicideStats.Country == HDIStats.Country) & (SuicideStats.Year == HDIStats.Year))\\\n",
    "    .join(WDIStats, (SuicideStats.Country == WDIStats.Country) & (SuicideStats.Year == WDIStats.Year))\\\n",
    "    .select([SuicideStats.Country, SuicideStats.Year, SuicideStats.Sex, SuicideStats.Age, SuicideStats.SuicidesNo,\n",
    "             SuicideStats.Population, SuicideStats.SuicidePer100k, HDIStats.HDIScore,\n",
    "             WDIStats.EmploymentToPopulationRatio, WDIStats.GDP, WDIStats.GDPPerCapita, WDIStats.GiniIndex])\n",
    "\n",
    "print((datasource.count(), len(datasource.columns)))\n",
    "datasource.show(6)"
   ]
  },
  {
   "cell_type": "code",
   "execution_count": 32,
   "metadata": {},
   "outputs": [
    {
     "name": "stdout",
     "output_type": "stream",
     "text": [
      "root\n",
      " |-- Country: string (nullable = true)\n",
      " |-- Year: integer (nullable = true)\n",
      " |-- Sex: string (nullable = true)\n",
      " |-- Age: string (nullable = true)\n",
      " |-- SuicidesNo: integer (nullable = true)\n",
      " |-- Population: integer (nullable = true)\n",
      " |-- SuicidePer100k: double (nullable = true)\n",
      " |-- HDIScore: double (nullable = true)\n",
      " |-- EmploymentToPopulationRatio: double (nullable = false)\n",
      " |-- GDP: double (nullable = false)\n",
      " |-- GDPPerCapita: double (nullable = false)\n",
      " |-- GiniIndex: double (nullable = false)\n",
      "\n"
     ]
    }
   ],
   "source": [
    "datasource.printSchema()"
   ]
  },
  {
   "cell_type": "markdown",
   "metadata": {},
   "source": [
    "## Format the Data "
   ]
  },
  {
   "cell_type": "code",
   "execution_count": 33,
   "metadata": {},
   "outputs": [
    {
     "name": "stdout",
     "output_type": "stream",
     "text": [
      "+-------+----+---+---+----------+----------+------------------+--------+---------------------------+-------------+------------+-----------------+\n",
      "|Country|Year|Sex|Age|SuicidesNo|Population|    SuicidePer100k|HDIScore|EmploymentToPopulationRatio|          GDP|GDPPerCapita|        GiniIndex|\n",
      "+-------+----+---+---+----------+----------+------------------+--------+---------------------------+-------------+------------+-----------------+\n",
      "|Albania|1992|  0| 75|         0|     23900|               0.0|   0.608|                54.30599976|4.038036613E9| 1243.605824|38.62148387096775|\n",
      "|Albania|1992|  0| 55|         5|    159500| 3.134796238244514|   0.608|                54.30599976|4.038036613E9| 1243.605824|38.62148387096775|\n",
      "|Albania|1992|  0|  5|         0|    362900|               0.0|   0.608|                54.30599976|4.038036613E9| 1243.605824|38.62148387096775|\n",
      "|Albania|1992|  0| 35|        12|    343800|3.4904013961605584|   0.608|                54.30599976|4.038036613E9| 1243.605824|38.62148387096775|\n",
      "|Albania|1992|  0| 25|         7|    245500|2.8513238289205702|   0.608|                54.30599976|4.038036613E9| 1243.605824|38.62148387096775|\n",
      "|Albania|1992|  0| 15|         9|    263700|3.4129692832764507|   0.608|                54.30599976|4.038036613E9| 1243.605824|38.62148387096775|\n",
      "+-------+----+---+---+----------+----------+------------------+--------+---------------------------+-------------+------------+-----------------+\n",
      "only showing top 6 rows\n",
      "\n"
     ]
    }
   ],
   "source": [
    "datasource = datasource.withColumn('Sex',when(datasource.Sex == 'male', 0).otherwise(1))\\\n",
    "                .withColumn('Age',when(datasource.Age == '5-14 years', 5)\\\n",
    "                            .when(datasource.Age == '15-24 years', 15)\\\n",
    "                            .when(datasource.Age == '25-34 years', 25)\\\n",
    "                            .when(datasource.Age == '35-54 years', 35)\\\n",
    "                            .when(datasource.Age == '55-74 years', 55).otherwise(75))\n",
    "datasource.show(6)"
   ]
  },
  {
   "cell_type": "markdown",
   "metadata": {},
   "source": [
    "# Data Transformation"
   ]
  },
  {
   "cell_type": "markdown",
   "metadata": {},
   "source": [
    "## Reduce the Data "
   ]
  },
  {
   "cell_type": "code",
   "execution_count": 34,
   "metadata": {},
   "outputs": [
    {
     "data": {
      "text/plain": [
       "['Country',\n",
       " 'Sex',\n",
       " 'Age',\n",
       " 'SuicidePer100k',\n",
       " 'HDIScore',\n",
       " 'EmploymentToPopulationRatio',\n",
       " 'GDP',\n",
       " 'GDPPerCapita',\n",
       " 'GiniIndex']"
      ]
     },
     "execution_count": 34,
     "metadata": {},
     "output_type": "execute_result"
    }
   ],
   "source": [
    "#drop some columns\n",
    "datasource = datasource.drop('SuicidesNo')\\\n",
    "    .drop('Population')\\\n",
    "    .drop('Year')\n",
    "\n",
    "datasource.columns"
   ]
  },
  {
   "cell_type": "markdown",
   "metadata": {},
   "source": [
    "## Project the Data "
   ]
  },
  {
   "cell_type": "code",
   "execution_count": 35,
   "metadata": {},
   "outputs": [],
   "source": [
    "datasource = datasource.withColumn(\"LogGDPPerCapita\", log(\"GDPPerCapita\")).withColumn(\"LogGDP\", log(\"GDP\"))"
   ]
  },
  {
   "cell_type": "code",
   "execution_count": 36,
   "metadata": {},
   "outputs": [
    {
     "data": {
      "text/plain": [
       "DataFrame[Country: string, Sex: int, Age: int, SuicidePer100k: double, HDIScore: double, EmploymentToPopulationRatio: double, GDP: double, GDPPerCapita: double, GiniIndex: double, LogGDPPerCapita: double, LogGDP: double]"
      ]
     },
     "execution_count": 36,
     "metadata": {},
     "output_type": "execute_result"
    }
   ],
   "source": [
    "datasource.persist()"
   ]
  },
  {
   "cell_type": "markdown",
   "metadata": {},
   "source": [
    "# Data Mining"
   ]
  },
  {
   "cell_type": "markdown",
   "metadata": {},
   "source": [
    "## Create and Justify Test Designs"
   ]
  },
  {
   "cell_type": "code",
   "execution_count": 37,
   "metadata": {},
   "outputs": [
    {
     "name": "stdout",
     "output_type": "stream",
     "text": [
      "The size of dataset is:  (17665, 11)\n",
      "The size of training data is:  (12341, 11)\n",
      "The size of test data is:  (5324, 11)\n"
     ]
    }
   ],
   "source": [
    "#Train and Test Split\n",
    "# Split the data\n",
    "(train, test) = datasource.randomSplit([0.7, 0.3])\n",
    "print(\"The size of dataset is: \",(datasource.count(), len(datasource.columns)))\n",
    "print(\"The size of training data is: \", (train.count(), len(train.columns)))\n",
    "print(\"The size of test data is: \", (test.count(), len(test.columns)))"
   ]
  },
  {
   "cell_type": "markdown",
   "metadata": {},
   "source": [
    "## Conduct Data Mining"
   ]
  },
  {
   "cell_type": "code",
   "execution_count": 38,
   "metadata": {},
   "outputs": [],
   "source": [
    "# casts all columns to a numeric type\n",
    "sexIndexer = StringIndexer(inputCol=\"Sex\", outputCol=\"SexIndex\")\n",
    "ageIndexer = StringIndexer(inputCol=\"Age\", outputCol=\"AgeIndex\")"
   ]
  },
  {
   "cell_type": "code",
   "execution_count": 39,
   "metadata": {},
   "outputs": [],
   "source": [
    "featuresCols = ['HDIScore', 'EmploymentToPopulationRatio', 'LogGDPPerCapita', 'LogGDP', 'GiniIndex', 'SexIndex', 'AgeIndex']\n",
    "featureAssembler = VectorAssembler(inputCols=featuresCols, outputCol=\"rawFeatures\")\n",
    "featureIndexer = VectorIndexer(inputCol=\"rawFeatures\", outputCol=\"indexedFeatures\", maxCategories=5)"
   ]
  },
  {
   "cell_type": "markdown",
   "metadata": {},
   "source": [
    "Use maxDepth = 8 in Interation1"
   ]
  },
  {
   "cell_type": "code",
   "execution_count": 40,
   "metadata": {},
   "outputs": [],
   "source": [
    "# Takes the \"features\" column and learns to predict \"SuicidePer100k\"\n",
    "gbt = GBTRegressor(featuresCol=\"indexedFeatures\",labelCol=\"SuicidePer100k\", maxIter=5, maxDepth=8)\n"
   ]
  },
  {
   "cell_type": "code",
   "execution_count": 41,
   "metadata": {},
   "outputs": [],
   "source": [
    "pipeline = Pipeline(stages=[sexIndexer, ageIndexer, featureAssembler, featureIndexer, gbt])\n",
    "\n",
    "pipelineModel = pipeline.fit(train)"
   ]
  },
  {
   "cell_type": "markdown",
   "metadata": {},
   "source": [
    "## Assess and Evaluate Results, Models, and Patterns"
   ]
  },
  {
   "cell_type": "code",
   "execution_count": 42,
   "metadata": {},
   "outputs": [
    {
     "data": {
      "text/plain": [
       "DataFrame[SuicidePer100k: double, prediction: double, HDIScore: double, EmploymentToPopulationRatio: double, LogGDPPerCapita: double, LogGDP: double, GiniIndex: double, SexIndex: double, AgeIndex: double]"
      ]
     },
     "metadata": {},
     "output_type": "display_data"
    }
   ],
   "source": [
    "predictions = pipelineModel.transform(test)\n",
    "display(predictions.select(\"SuicidePer100k\", \"prediction\", *featuresCols))"
   ]
  },
  {
   "cell_type": "code",
   "execution_count": 43,
   "metadata": {},
   "outputs": [
    {
     "name": "stdout",
     "output_type": "stream",
     "text": [
      "Root Mean Squared Error (RMSE) on test data = 11.048\n"
     ]
    }
   ],
   "source": [
    "evaluator = RegressionEvaluator(\n",
    "    labelCol=\"SuicidePer100k\", predictionCol=\"prediction\", metricName=\"rmse\")\n",
    "rmse = evaluator.evaluate(predictions)\n",
    "print(\"Root Mean Squared Error (RMSE) on test data = %g\" % rmse)"
   ]
  },
  {
   "cell_type": "code",
   "execution_count": 44,
   "metadata": {},
   "outputs": [],
   "source": [
    "gbtModel = pipelineModel.stages[-1]"
   ]
  },
  {
   "cell_type": "code",
   "execution_count": 45,
   "metadata": {},
   "outputs": [
    {
     "data": {
      "text/plain": [
       "SparseVector(7, {0: 0.0812, 1: 0.1402, 2: 0.1401, 3: 0.1859, 4: 0.0221, 5: 0.1672, 6: 0.2632})"
      ]
     },
     "execution_count": 45,
     "metadata": {},
     "output_type": "execute_result"
    }
   ],
   "source": [
    "#featuresCols = ['HDIScore', 'EmploymentToPopulationRatio', 'LogGDPPerCapita', 'LogGDP', 'GiniIndex', 'SexIndex', 'AgeIndex']\n",
    "gbtModel.featureImportances"
   ]
  },
  {
   "cell_type": "code",
   "execution_count": 46,
   "metadata": {},
   "outputs": [],
   "source": [
    "predictions_df = predictions.toPandas()"
   ]
  },
  {
   "cell_type": "code",
   "execution_count": 47,
   "metadata": {},
   "outputs": [
    {
     "data": {
      "image/png": "[encoded data removed]",
      "text/plain": [
       "<Figure size 432x288 with 1 Axes>"
      ]
     },
     "metadata": {},
     "output_type": "display_data"
    }
   ],
   "source": [
    "plt.scatter(predictions_df.prediction, predictions_df.SuicidePer100k)\n",
    "plt.title(\"predict vs test (max_depth:8)\")\n",
    "plt.xlabel(\"predict\")\n",
    "plt.ylabel(\"test\")\n",
    "plt.show()"
   ]
  },
  {
   "cell_type": "code",
   "execution_count": null,
   "metadata": {},
   "outputs": [],
   "source": []
  }
 ],
 "metadata": {
  "kernelspec": {
   "display_name": "Python 3",
   "language": "python",
   "name": "python3"
  },
  "language_info": {
   "codemirror_mode": {
    "name": "ipython",
    "version": 3
   },
   "file_extension": ".py",
   "mimetype": "text/x-python",
   "name": "python",
   "nbconvert_exporter": "python",
   "pygments_lexer": "ipython3",
   "version": "3.5.2"
  }
 },
 "nbformat": 4,
 "nbformat_minor": 2
}
